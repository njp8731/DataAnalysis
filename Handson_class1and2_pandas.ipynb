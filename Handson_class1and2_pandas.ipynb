{
  "nbformat": 4,
  "nbformat_minor": 0,
  "metadata": {
    "colab": {
      "provenance": []
    },
    "kernelspec": {
      "name": "python3",
      "display_name": "Python 3"
    },
    "language_info": {
      "name": "python"
    }
  },
  "cells": [
    {
      "cell_type": "code",
      "execution_count": 1,
      "metadata": {
        "id": "mUm7K_D0V-6B"
      },
      "outputs": [],
      "source": [
        "import numpy as np\n",
        "import pandas as pd"
      ]
    },
    {
      "cell_type": "code",
      "source": [
        "# with one col\n",
        "pd.read_csv('/content/subs.csv')"
      ],
      "metadata": {
        "colab": {
          "base_uri": "https://localhost:8080/",
          "height": 423
        },
        "id": "E6ivYCqwWUyR",
        "outputId": "6c1b4b93-1e28-4417-f146-314b3c0292b9"
      },
      "execution_count": 2,
      "outputs": [
        {
          "output_type": "execute_result",
          "data": {
            "text/plain": [
              "     Subscribers gained\n",
              "0                    48\n",
              "1                    57\n",
              "2                    40\n",
              "3                    43\n",
              "4                    44\n",
              "..                  ...\n",
              "360                 231\n",
              "361                 226\n",
              "362                 155\n",
              "363                 144\n",
              "364                 172\n",
              "\n",
              "[365 rows x 1 columns]"
            ],
            "text/html": [
              "\n",
              "  <div id=\"df-54a1b049-0d33-4f9f-92c4-37146d632732\" class=\"colab-df-container\">\n",
              "    <div>\n",
              "<style scoped>\n",
              "    .dataframe tbody tr th:only-of-type {\n",
              "        vertical-align: middle;\n",
              "    }\n",
              "\n",
              "    .dataframe tbody tr th {\n",
              "        vertical-align: top;\n",
              "    }\n",
              "\n",
              "    .dataframe thead th {\n",
              "        text-align: right;\n",
              "    }\n",
              "</style>\n",
              "<table border=\"1\" class=\"dataframe\">\n",
              "  <thead>\n",
              "    <tr style=\"text-align: right;\">\n",
              "      <th></th>\n",
              "      <th>Subscribers gained</th>\n",
              "    </tr>\n",
              "  </thead>\n",
              "  <tbody>\n",
              "    <tr>\n",
              "      <th>0</th>\n",
              "      <td>48</td>\n",
              "    </tr>\n",
              "    <tr>\n",
              "      <th>1</th>\n",
              "      <td>57</td>\n",
              "    </tr>\n",
              "    <tr>\n",
              "      <th>2</th>\n",
              "      <td>40</td>\n",
              "    </tr>\n",
              "    <tr>\n",
              "      <th>3</th>\n",
              "      <td>43</td>\n",
              "    </tr>\n",
              "    <tr>\n",
              "      <th>4</th>\n",
              "      <td>44</td>\n",
              "    </tr>\n",
              "    <tr>\n",
              "      <th>...</th>\n",
              "      <td>...</td>\n",
              "    </tr>\n",
              "    <tr>\n",
              "      <th>360</th>\n",
              "      <td>231</td>\n",
              "    </tr>\n",
              "    <tr>\n",
              "      <th>361</th>\n",
              "      <td>226</td>\n",
              "    </tr>\n",
              "    <tr>\n",
              "      <th>362</th>\n",
              "      <td>155</td>\n",
              "    </tr>\n",
              "    <tr>\n",
              "      <th>363</th>\n",
              "      <td>144</td>\n",
              "    </tr>\n",
              "    <tr>\n",
              "      <th>364</th>\n",
              "      <td>172</td>\n",
              "    </tr>\n",
              "  </tbody>\n",
              "</table>\n",
              "<p>365 rows × 1 columns</p>\n",
              "</div>\n",
              "    <div class=\"colab-df-buttons\">\n",
              "\n",
              "  <div class=\"colab-df-container\">\n",
              "    <button class=\"colab-df-convert\" onclick=\"convertToInteractive('df-54a1b049-0d33-4f9f-92c4-37146d632732')\"\n",
              "            title=\"Convert this dataframe to an interactive table.\"\n",
              "            style=\"display:none;\">\n",
              "\n",
              "  <svg xmlns=\"http://www.w3.org/2000/svg\" height=\"24px\" viewBox=\"0 -960 960 960\">\n",
              "    <path d=\"M120-120v-720h720v720H120Zm60-500h600v-160H180v160Zm220 220h160v-160H400v160Zm0 220h160v-160H400v160ZM180-400h160v-160H180v160Zm440 0h160v-160H620v160ZM180-180h160v-160H180v160Zm440 0h160v-160H620v160Z\"/>\n",
              "  </svg>\n",
              "    </button>\n",
              "\n",
              "  <style>\n",
              "    .colab-df-container {\n",
              "      display:flex;\n",
              "      gap: 12px;\n",
              "    }\n",
              "\n",
              "    .colab-df-convert {\n",
              "      background-color: #E8F0FE;\n",
              "      border: none;\n",
              "      border-radius: 50%;\n",
              "      cursor: pointer;\n",
              "      display: none;\n",
              "      fill: #1967D2;\n",
              "      height: 32px;\n",
              "      padding: 0 0 0 0;\n",
              "      width: 32px;\n",
              "    }\n",
              "\n",
              "    .colab-df-convert:hover {\n",
              "      background-color: #E2EBFA;\n",
              "      box-shadow: 0px 1px 2px rgba(60, 64, 67, 0.3), 0px 1px 3px 1px rgba(60, 64, 67, 0.15);\n",
              "      fill: #174EA6;\n",
              "    }\n",
              "\n",
              "    .colab-df-buttons div {\n",
              "      margin-bottom: 4px;\n",
              "    }\n",
              "\n",
              "    [theme=dark] .colab-df-convert {\n",
              "      background-color: #3B4455;\n",
              "      fill: #D2E3FC;\n",
              "    }\n",
              "\n",
              "    [theme=dark] .colab-df-convert:hover {\n",
              "      background-color: #434B5C;\n",
              "      box-shadow: 0px 1px 3px 1px rgba(0, 0, 0, 0.15);\n",
              "      filter: drop-shadow(0px 1px 2px rgba(0, 0, 0, 0.3));\n",
              "      fill: #FFFFFF;\n",
              "    }\n",
              "  </style>\n",
              "\n",
              "    <script>\n",
              "      const buttonEl =\n",
              "        document.querySelector('#df-54a1b049-0d33-4f9f-92c4-37146d632732 button.colab-df-convert');\n",
              "      buttonEl.style.display =\n",
              "        google.colab.kernel.accessAllowed ? 'block' : 'none';\n",
              "\n",
              "      async function convertToInteractive(key) {\n",
              "        const element = document.querySelector('#df-54a1b049-0d33-4f9f-92c4-37146d632732');\n",
              "        const dataTable =\n",
              "          await google.colab.kernel.invokeFunction('convertToInteractive',\n",
              "                                                    [key], {});\n",
              "        if (!dataTable) return;\n",
              "\n",
              "        const docLinkHtml = 'Like what you see? Visit the ' +\n",
              "          '<a target=\"_blank\" href=https://colab.research.google.com/notebooks/data_table.ipynb>data table notebook</a>'\n",
              "          + ' to learn more about interactive tables.';\n",
              "        element.innerHTML = '';\n",
              "        dataTable['output_type'] = 'display_data';\n",
              "        await google.colab.output.renderOutput(dataTable, element);\n",
              "        const docLink = document.createElement('div');\n",
              "        docLink.innerHTML = docLinkHtml;\n",
              "        element.appendChild(docLink);\n",
              "      }\n",
              "    </script>\n",
              "  </div>\n",
              "\n",
              "\n",
              "<div id=\"df-04c0e682-be80-4796-839b-9e30d4cd6a05\">\n",
              "  <button class=\"colab-df-quickchart\" onclick=\"quickchart('df-04c0e682-be80-4796-839b-9e30d4cd6a05')\"\n",
              "            title=\"Suggest charts\"\n",
              "            style=\"display:none;\">\n",
              "\n",
              "<svg xmlns=\"http://www.w3.org/2000/svg\" height=\"24px\"viewBox=\"0 0 24 24\"\n",
              "     width=\"24px\">\n",
              "    <g>\n",
              "        <path d=\"M19 3H5c-1.1 0-2 .9-2 2v14c0 1.1.9 2 2 2h14c1.1 0 2-.9 2-2V5c0-1.1-.9-2-2-2zM9 17H7v-7h2v7zm4 0h-2V7h2v10zm4 0h-2v-4h2v4z\"/>\n",
              "    </g>\n",
              "</svg>\n",
              "  </button>\n",
              "\n",
              "<style>\n",
              "  .colab-df-quickchart {\n",
              "      --bg-color: #E8F0FE;\n",
              "      --fill-color: #1967D2;\n",
              "      --hover-bg-color: #E2EBFA;\n",
              "      --hover-fill-color: #174EA6;\n",
              "      --disabled-fill-color: #AAA;\n",
              "      --disabled-bg-color: #DDD;\n",
              "  }\n",
              "\n",
              "  [theme=dark] .colab-df-quickchart {\n",
              "      --bg-color: #3B4455;\n",
              "      --fill-color: #D2E3FC;\n",
              "      --hover-bg-color: #434B5C;\n",
              "      --hover-fill-color: #FFFFFF;\n",
              "      --disabled-bg-color: #3B4455;\n",
              "      --disabled-fill-color: #666;\n",
              "  }\n",
              "\n",
              "  .colab-df-quickchart {\n",
              "    background-color: var(--bg-color);\n",
              "    border: none;\n",
              "    border-radius: 50%;\n",
              "    cursor: pointer;\n",
              "    display: none;\n",
              "    fill: var(--fill-color);\n",
              "    height: 32px;\n",
              "    padding: 0;\n",
              "    width: 32px;\n",
              "  }\n",
              "\n",
              "  .colab-df-quickchart:hover {\n",
              "    background-color: var(--hover-bg-color);\n",
              "    box-shadow: 0 1px 2px rgba(60, 64, 67, 0.3), 0 1px 3px 1px rgba(60, 64, 67, 0.15);\n",
              "    fill: var(--button-hover-fill-color);\n",
              "  }\n",
              "\n",
              "  .colab-df-quickchart-complete:disabled,\n",
              "  .colab-df-quickchart-complete:disabled:hover {\n",
              "    background-color: var(--disabled-bg-color);\n",
              "    fill: var(--disabled-fill-color);\n",
              "    box-shadow: none;\n",
              "  }\n",
              "\n",
              "  .colab-df-spinner {\n",
              "    border: 2px solid var(--fill-color);\n",
              "    border-color: transparent;\n",
              "    border-bottom-color: var(--fill-color);\n",
              "    animation:\n",
              "      spin 1s steps(1) infinite;\n",
              "  }\n",
              "\n",
              "  @keyframes spin {\n",
              "    0% {\n",
              "      border-color: transparent;\n",
              "      border-bottom-color: var(--fill-color);\n",
              "      border-left-color: var(--fill-color);\n",
              "    }\n",
              "    20% {\n",
              "      border-color: transparent;\n",
              "      border-left-color: var(--fill-color);\n",
              "      border-top-color: var(--fill-color);\n",
              "    }\n",
              "    30% {\n",
              "      border-color: transparent;\n",
              "      border-left-color: var(--fill-color);\n",
              "      border-top-color: var(--fill-color);\n",
              "      border-right-color: var(--fill-color);\n",
              "    }\n",
              "    40% {\n",
              "      border-color: transparent;\n",
              "      border-right-color: var(--fill-color);\n",
              "      border-top-color: var(--fill-color);\n",
              "    }\n",
              "    60% {\n",
              "      border-color: transparent;\n",
              "      border-right-color: var(--fill-color);\n",
              "    }\n",
              "    80% {\n",
              "      border-color: transparent;\n",
              "      border-right-color: var(--fill-color);\n",
              "      border-bottom-color: var(--fill-color);\n",
              "    }\n",
              "    90% {\n",
              "      border-color: transparent;\n",
              "      border-bottom-color: var(--fill-color);\n",
              "    }\n",
              "  }\n",
              "</style>\n",
              "\n",
              "  <script>\n",
              "    async function quickchart(key) {\n",
              "      const quickchartButtonEl =\n",
              "        document.querySelector('#' + key + ' button');\n",
              "      quickchartButtonEl.disabled = true;  // To prevent multiple clicks.\n",
              "      quickchartButtonEl.classList.add('colab-df-spinner');\n",
              "      try {\n",
              "        const charts = await google.colab.kernel.invokeFunction(\n",
              "            'suggestCharts', [key], {});\n",
              "      } catch (error) {\n",
              "        console.error('Error during call to suggestCharts:', error);\n",
              "      }\n",
              "      quickchartButtonEl.classList.remove('colab-df-spinner');\n",
              "      quickchartButtonEl.classList.add('colab-df-quickchart-complete');\n",
              "    }\n",
              "    (() => {\n",
              "      let quickchartButtonEl =\n",
              "        document.querySelector('#df-04c0e682-be80-4796-839b-9e30d4cd6a05 button');\n",
              "      quickchartButtonEl.style.display =\n",
              "        google.colab.kernel.accessAllowed ? 'block' : 'none';\n",
              "    })();\n",
              "  </script>\n",
              "</div>\n",
              "\n",
              "    </div>\n",
              "  </div>\n"
            ],
            "application/vnd.google.colaboratory.intrinsic+json": {
              "type": "dataframe",
              "summary": "{\n  \"name\": \"pd\",\n  \"rows\": 365,\n  \"fields\": [\n    {\n      \"column\": \"Subscribers gained\",\n      \"properties\": {\n        \"dtype\": \"number\",\n        \"std\": 62,\n        \"min\": 33,\n        \"max\": 396,\n        \"num_unique_values\": 180,\n        \"samples\": [\n          61,\n          136,\n          230\n        ],\n        \"semantic_type\": \"\",\n        \"description\": \"\"\n      }\n    }\n  ]\n}"
            }
          },
          "metadata": {},
          "execution_count": 2
        }
      ]
    },
    {
      "cell_type": "markdown",
      "source": [
        "pd.read_csv() always brings the data in DataFrame format rather than series."
      ],
      "metadata": {
        "id": "jAsTyGY7W_m2"
      }
    },
    {
      "cell_type": "code",
      "source": [
        "type(pd.read_csv('/content/subs.csv'))"
      ],
      "metadata": {
        "colab": {
          "base_uri": "https://localhost:8080/",
          "height": 203
        },
        "id": "CUxSHHCgWzx9",
        "outputId": "6ec633b2-0620-4b81-ee8c-9d6d5c8054c6"
      },
      "execution_count": 3,
      "outputs": [
        {
          "output_type": "execute_result",
          "data": {
            "text/plain": [
              "pandas.core.frame.DataFrame"
            ],
            "text/html": [
              "<div style=\"max-width:800px; border: 1px solid var(--colab-border-color);\"><style>\n",
              "      pre.function-repr-contents {\n",
              "        overflow-x: auto;\n",
              "        padding: 8px 12px;\n",
              "        max-height: 500px;\n",
              "      }\n",
              "\n",
              "      pre.function-repr-contents.function-repr-contents-collapsed {\n",
              "        cursor: pointer;\n",
              "        max-height: 100px;\n",
              "      }\n",
              "    </style>\n",
              "    <pre style=\"white-space: initial; background:\n",
              "         var(--colab-secondary-surface-color); padding: 8px 12px;\n",
              "         border-bottom: 1px solid var(--colab-border-color);\"><b>pandas.core.frame.DataFrame</b><br/>def __init__(data=None, index: Axes | None=None, columns: Axes | None=None, dtype: Dtype | None=None, copy: bool | None=None) -&gt; None</pre><pre class=\"function-repr-contents function-repr-contents-collapsed\" style=\"\"><a class=\"filepath\" style=\"display:none\" href=\"#\">/usr/local/lib/python3.10/dist-packages/pandas/core/frame.py</a>Two-dimensional, size-mutable, potentially heterogeneous tabular data.\n",
              "\n",
              "Data structure also contains labeled axes (rows and columns).\n",
              "Arithmetic operations align on both row and column labels. Can be\n",
              "thought of as a dict-like container for Series objects. The primary\n",
              "pandas data structure.\n",
              "\n",
              "Parameters\n",
              "----------\n",
              "data : ndarray (structured or homogeneous), Iterable, dict, or DataFrame\n",
              "    Dict can contain Series, arrays, constants, dataclass or list-like objects. If\n",
              "    data is a dict, column order follows insertion-order. If a dict contains Series\n",
              "    which have an index defined, it is aligned by its index. This alignment also\n",
              "    occurs if data is a Series or a DataFrame itself. Alignment is done on\n",
              "    Series/DataFrame inputs.\n",
              "\n",
              "    If data is a list of dicts, column order follows insertion-order.\n",
              "\n",
              "index : Index or array-like\n",
              "    Index to use for resulting frame. Will default to RangeIndex if\n",
              "    no indexing information part of input data and no index provided.\n",
              "columns : Index or array-like\n",
              "    Column labels to use for resulting frame when data does not have them,\n",
              "    defaulting to RangeIndex(0, 1, 2, ..., n). If data contains column labels,\n",
              "    will perform column selection instead.\n",
              "dtype : dtype, default None\n",
              "    Data type to force. Only a single dtype is allowed. If None, infer.\n",
              "copy : bool or None, default None\n",
              "    Copy data from inputs.\n",
              "    For dict data, the default of None behaves like ``copy=True``.  For DataFrame\n",
              "    or 2d ndarray input, the default of None behaves like ``copy=False``.\n",
              "    If data is a dict containing one or more Series (possibly of different dtypes),\n",
              "    ``copy=False`` will ensure that these inputs are not copied.\n",
              "\n",
              "    .. versionchanged:: 1.3.0\n",
              "\n",
              "See Also\n",
              "--------\n",
              "DataFrame.from_records : Constructor from tuples, also record arrays.\n",
              "DataFrame.from_dict : From dicts of Series, arrays, or dicts.\n",
              "read_csv : Read a comma-separated values (csv) file into DataFrame.\n",
              "read_table : Read general delimited file into DataFrame.\n",
              "read_clipboard : Read text from clipboard into DataFrame.\n",
              "\n",
              "Notes\n",
              "-----\n",
              "Please reference the :ref:`User Guide &lt;basics.dataframe&gt;` for more information.\n",
              "\n",
              "Examples\n",
              "--------\n",
              "Constructing DataFrame from a dictionary.\n",
              "\n",
              "&gt;&gt;&gt; d = {&#x27;col1&#x27;: [1, 2], &#x27;col2&#x27;: [3, 4]}\n",
              "&gt;&gt;&gt; df = pd.DataFrame(data=d)\n",
              "&gt;&gt;&gt; df\n",
              "   col1  col2\n",
              "0     1     3\n",
              "1     2     4\n",
              "\n",
              "Notice that the inferred dtype is int64.\n",
              "\n",
              "&gt;&gt;&gt; df.dtypes\n",
              "col1    int64\n",
              "col2    int64\n",
              "dtype: object\n",
              "\n",
              "To enforce a single dtype:\n",
              "\n",
              "&gt;&gt;&gt; df = pd.DataFrame(data=d, dtype=np.int8)\n",
              "&gt;&gt;&gt; df.dtypes\n",
              "col1    int8\n",
              "col2    int8\n",
              "dtype: object\n",
              "\n",
              "Constructing DataFrame from a dictionary including Series:\n",
              "\n",
              "&gt;&gt;&gt; d = {&#x27;col1&#x27;: [0, 1, 2, 3], &#x27;col2&#x27;: pd.Series([2, 3], index=[2, 3])}\n",
              "&gt;&gt;&gt; pd.DataFrame(data=d, index=[0, 1, 2, 3])\n",
              "   col1  col2\n",
              "0     0   NaN\n",
              "1     1   NaN\n",
              "2     2   2.0\n",
              "3     3   3.0\n",
              "\n",
              "Constructing DataFrame from numpy ndarray:\n",
              "\n",
              "&gt;&gt;&gt; df2 = pd.DataFrame(np.array([[1, 2, 3], [4, 5, 6], [7, 8, 9]]),\n",
              "...                    columns=[&#x27;a&#x27;, &#x27;b&#x27;, &#x27;c&#x27;])\n",
              "&gt;&gt;&gt; df2\n",
              "   a  b  c\n",
              "0  1  2  3\n",
              "1  4  5  6\n",
              "2  7  8  9\n",
              "\n",
              "Constructing DataFrame from a numpy ndarray that has labeled columns:\n",
              "\n",
              "&gt;&gt;&gt; data = np.array([(1, 2, 3), (4, 5, 6), (7, 8, 9)],\n",
              "...                 dtype=[(&quot;a&quot;, &quot;i4&quot;), (&quot;b&quot;, &quot;i4&quot;), (&quot;c&quot;, &quot;i4&quot;)])\n",
              "&gt;&gt;&gt; df3 = pd.DataFrame(data, columns=[&#x27;c&#x27;, &#x27;a&#x27;])\n",
              "...\n",
              "&gt;&gt;&gt; df3\n",
              "   c  a\n",
              "0  3  1\n",
              "1  6  4\n",
              "2  9  7\n",
              "\n",
              "Constructing DataFrame from dataclass:\n",
              "\n",
              "&gt;&gt;&gt; from dataclasses import make_dataclass\n",
              "&gt;&gt;&gt; Point = make_dataclass(&quot;Point&quot;, [(&quot;x&quot;, int), (&quot;y&quot;, int)])\n",
              "&gt;&gt;&gt; pd.DataFrame([Point(0, 0), Point(0, 3), Point(2, 3)])\n",
              "   x  y\n",
              "0  0  0\n",
              "1  0  3\n",
              "2  2  3\n",
              "\n",
              "Constructing DataFrame from Series/DataFrame:\n",
              "\n",
              "&gt;&gt;&gt; ser = pd.Series([1, 2, 3], index=[&quot;a&quot;, &quot;b&quot;, &quot;c&quot;])\n",
              "&gt;&gt;&gt; df = pd.DataFrame(data=ser, index=[&quot;a&quot;, &quot;c&quot;])\n",
              "&gt;&gt;&gt; df\n",
              "   0\n",
              "a  1\n",
              "c  3\n",
              "\n",
              "&gt;&gt;&gt; df1 = pd.DataFrame([1, 2, 3], index=[&quot;a&quot;, &quot;b&quot;, &quot;c&quot;], columns=[&quot;x&quot;])\n",
              "&gt;&gt;&gt; df2 = pd.DataFrame(data=df1, index=[&quot;a&quot;, &quot;c&quot;])\n",
              "&gt;&gt;&gt; df2\n",
              "   x\n",
              "a  1\n",
              "c  3</pre>\n",
              "      <script>\n",
              "      if (google.colab.kernel.accessAllowed && google.colab.files && google.colab.files.view) {\n",
              "        for (const element of document.querySelectorAll('.filepath')) {\n",
              "          element.style.display = 'block'\n",
              "          element.onclick = (event) => {\n",
              "            event.preventDefault();\n",
              "            event.stopPropagation();\n",
              "            google.colab.files.view(element.textContent, 490);\n",
              "          };\n",
              "        }\n",
              "      }\n",
              "      for (const element of document.querySelectorAll('.function-repr-contents')) {\n",
              "        element.onclick = (event) => {\n",
              "          event.preventDefault();\n",
              "          event.stopPropagation();\n",
              "          element.classList.toggle('function-repr-contents-collapsed');\n",
              "        };\n",
              "      }\n",
              "      </script>\n",
              "      </div>"
            ]
          },
          "metadata": {},
          "execution_count": 3
        }
      ]
    },
    {
      "cell_type": "markdown",
      "source": [
        "**Pre-made Error to notify a deprecation.**"
      ],
      "metadata": {
        "id": "CCIGgEXfbZ5q"
      }
    },
    {
      "cell_type": "code",
      "source": [
        "pd.read_csv('/content/subs.csv', squeeze=True)\n",
        "# squeeze as a parameter is deprecated in the later versions."
      ],
      "metadata": {
        "colab": {
          "base_uri": "https://localhost:8080/",
          "height": 158
        },
        "id": "kCISUN05W7Jp",
        "outputId": "152d2877-a471-4a1d-a972-81575ec79302"
      },
      "execution_count": 4,
      "outputs": [
        {
          "output_type": "error",
          "ename": "TypeError",
          "evalue": "read_csv() got an unexpected keyword argument 'squeeze'",
          "traceback": [
            "\u001b[0;31m---------------------------------------------------------------------------\u001b[0m",
            "\u001b[0;31mTypeError\u001b[0m                                 Traceback (most recent call last)",
            "\u001b[0;32m<ipython-input-4-874ce14ee3f2>\u001b[0m in \u001b[0;36m<cell line: 1>\u001b[0;34m()\u001b[0m\n\u001b[0;32m----> 1\u001b[0;31m \u001b[0mpd\u001b[0m\u001b[0;34m.\u001b[0m\u001b[0mread_csv\u001b[0m\u001b[0;34m(\u001b[0m\u001b[0;34m'/content/subs.csv'\u001b[0m\u001b[0;34m,\u001b[0m \u001b[0msqueeze\u001b[0m\u001b[0;34m=\u001b[0m\u001b[0;32mTrue\u001b[0m\u001b[0;34m)\u001b[0m\u001b[0;34m\u001b[0m\u001b[0;34m\u001b[0m\u001b[0m\n\u001b[0m\u001b[1;32m      2\u001b[0m \u001b[0;31m# squeeze as a parameter is deprecated in the later versions.\u001b[0m\u001b[0;34m\u001b[0m\u001b[0;34m\u001b[0m\u001b[0m\n",
            "\u001b[0;31mTypeError\u001b[0m: read_csv() got an unexpected keyword argument 'squeeze'"
          ]
        }
      ]
    },
    {
      "cell_type": "code",
      "source": [
        "subs = pd.read_csv('/content/subs.csv').squeeze()\n",
        "# squeeze() is used to convert dataframe result to series format.\n",
        "subs"
      ],
      "metadata": {
        "colab": {
          "base_uri": "https://localhost:8080/"
        },
        "id": "uBL8i7WgXOmR",
        "outputId": "abf82179-5038-4685-ae8e-b7f08f1024a0"
      },
      "execution_count": 5,
      "outputs": [
        {
          "output_type": "execute_result",
          "data": {
            "text/plain": [
              "0       48\n",
              "1       57\n",
              "2       40\n",
              "3       43\n",
              "4       44\n",
              "      ... \n",
              "360    231\n",
              "361    226\n",
              "362    155\n",
              "363    144\n",
              "364    172\n",
              "Name: Subscribers gained, Length: 365, dtype: int64"
            ]
          },
          "metadata": {},
          "execution_count": 5
        }
      ]
    },
    {
      "cell_type": "markdown",
      "source": [
        "Name:, comes from the value column's 1st value."
      ],
      "metadata": {
        "id": "mTt1HxtpcrMb"
      }
    },
    {
      "cell_type": "markdown",
      "source": [],
      "metadata": {
        "id": "DPSa04EYcklK"
      }
    },
    {
      "cell_type": "code",
      "source": [
        "vk = pd.read_csv('/content/kohli_ipl.csv', index_col=\"match_no\").squeeze()\n",
        "# index_col is used to declare a column of csv file as an index.\n",
        "# squeeze() is used to convert dataframe result to series format.\n",
        "vk"
      ],
      "metadata": {
        "colab": {
          "base_uri": "https://localhost:8080/"
        },
        "id": "jgfVmn_vX2c6",
        "outputId": "b9b3351a-ffe6-49a9-dbc3-4dc5408fbeee"
      },
      "execution_count": 6,
      "outputs": [
        {
          "output_type": "execute_result",
          "data": {
            "text/plain": [
              "match_no\n",
              "1       1\n",
              "2      23\n",
              "3      13\n",
              "4      12\n",
              "5       1\n",
              "       ..\n",
              "211     0\n",
              "212    20\n",
              "213    73\n",
              "214    25\n",
              "215     7\n",
              "Name: runs, Length: 215, dtype: int64"
            ]
          },
          "metadata": {},
          "execution_count": 6
        }
      ]
    },
    {
      "cell_type": "code",
      "source": [
        "movies = pd.read_csv('/content/bollywood.csv', index_col=\"movie\").squeeze()\n",
        "movies"
      ],
      "metadata": {
        "colab": {
          "base_uri": "https://localhost:8080/"
        },
        "id": "xBwdT3ssazMT",
        "outputId": "68dfbe9f-8649-4cd3-c0eb-ae7b24f90dfd"
      },
      "execution_count": 7,
      "outputs": [
        {
          "output_type": "execute_result",
          "data": {
            "text/plain": [
              "movie\n",
              "Uri: The Surgical Strike                   Vicky Kaushal\n",
              "Battalion 609                                Vicky Ahuja\n",
              "The Accidental Prime Minister (film)         Anupam Kher\n",
              "Why Cheat India                            Emraan Hashmi\n",
              "Evening Shadows                         Mona Ambegaonkar\n",
              "                                              ...       \n",
              "Hum Tumhare Hain Sanam                    Shah Rukh Khan\n",
              "Aankhen (2002 film)                     Amitabh Bachchan\n",
              "Saathiya (film)                             Vivek Oberoi\n",
              "Company (film)                                Ajay Devgn\n",
              "Awara Paagal Deewana                        Akshay Kumar\n",
              "Name: lead, Length: 1500, dtype: object"
            ]
          },
          "metadata": {},
          "execution_count": 7
        }
      ]
    },
    {
      "cell_type": "code",
      "source": [
        "# Series Methods"
      ],
      "metadata": {
        "id": "9Ticdp7sbCdi"
      },
      "execution_count": 8,
      "outputs": []
    },
    {
      "cell_type": "code",
      "source": [
        "# 1. head and tail\n",
        "# head = first five data by default  =5\n",
        "# tail = last five data by default =5\n",
        "vk.head()"
      ],
      "metadata": {
        "colab": {
          "base_uri": "https://localhost:8080/"
        },
        "id": "OCXmDhpzbjkF",
        "outputId": "bb7c5152-0c3c-4645-916e-3ab45e12b9b4"
      },
      "execution_count": 9,
      "outputs": [
        {
          "output_type": "execute_result",
          "data": {
            "text/plain": [
              "match_no\n",
              "1     1\n",
              "2    23\n",
              "3    13\n",
              "4    12\n",
              "5     1\n",
              "Name: runs, dtype: int64"
            ]
          },
          "metadata": {},
          "execution_count": 9
        }
      ]
    },
    {
      "cell_type": "code",
      "source": [
        "print(vk.head(3))\n",
        "vk.head(10)"
      ],
      "metadata": {
        "colab": {
          "base_uri": "https://localhost:8080/"
        },
        "id": "CUjtJPI8bvcj",
        "outputId": "c1395a9f-0436-411c-827f-1d5e66a9f8e1"
      },
      "execution_count": 10,
      "outputs": [
        {
          "output_type": "stream",
          "name": "stdout",
          "text": [
            "match_no\n",
            "1     1\n",
            "2    23\n",
            "3    13\n",
            "Name: runs, dtype: int64\n"
          ]
        },
        {
          "output_type": "execute_result",
          "data": {
            "text/plain": [
              "match_no\n",
              "1      1\n",
              "2     23\n",
              "3     13\n",
              "4     12\n",
              "5      1\n",
              "6      9\n",
              "7     34\n",
              "8      0\n",
              "9     21\n",
              "10     3\n",
              "Name: runs, dtype: int64"
            ]
          },
          "metadata": {},
          "execution_count": 10
        }
      ]
    },
    {
      "cell_type": "code",
      "source": [
        "vk.tail(7)"
      ],
      "metadata": {
        "colab": {
          "base_uri": "https://localhost:8080/"
        },
        "id": "M50TJDuDbyPy",
        "outputId": "b2a69372-6d12-4caa-a7fe-c0cc27d71646"
      },
      "execution_count": 11,
      "outputs": [
        {
          "output_type": "execute_result",
          "data": {
            "text/plain": [
              "match_no\n",
              "209    58\n",
              "210    30\n",
              "211     0\n",
              "212    20\n",
              "213    73\n",
              "214    25\n",
              "215     7\n",
              "Name: runs, dtype: int64"
            ]
          },
          "metadata": {},
          "execution_count": 11
        }
      ]
    },
    {
      "cell_type": "code",
      "source": [
        "# 2. sample\n",
        "movies.sample()\n",
        "# by not specifying an argument just get one record at a time."
      ],
      "metadata": {
        "colab": {
          "base_uri": "https://localhost:8080/"
        },
        "id": "RZCAQGPzb3vp",
        "outputId": "f99d24c2-74da-4ff3-89fa-652921746228"
      },
      "execution_count": 12,
      "outputs": [
        {
          "output_type": "execute_result",
          "data": {
            "text/plain": [
              "movie\n",
              "Halla Bol    Ajay Devgn\n",
              "Name: lead, dtype: object"
            ]
          },
          "metadata": {},
          "execution_count": 12
        }
      ]
    },
    {
      "cell_type": "code",
      "source": [
        "# takes an optional argument for number of random rows you want.\n",
        "print(movies.sample(5))"
      ],
      "metadata": {
        "colab": {
          "base_uri": "https://localhost:8080/"
        },
        "id": "Rcj1v0I5cDCk",
        "outputId": "2cb6c219-5164-4947-876f-9cb127d12fbf"
      },
      "execution_count": 13,
      "outputs": [
        {
          "output_type": "stream",
          "name": "stdout",
          "text": [
            "movie\n",
            "October (2018 film)      Varun Dhawan\n",
            "Santa Banta Pvt Ltd       Boman Irani\n",
            "Don't Stop Dreaming      Rishi Kapoor\n",
            "Company (film)             Ajay Devgn\n",
            "Anwar (2007 film)      Nauheed Cyrusi\n",
            "Name: lead, dtype: object\n"
          ]
        }
      ]
    },
    {
      "cell_type": "code",
      "source": [
        "# 3. value_counts\n",
        "# returns the frequency of a data item in a series, in descending order.\n",
        "movies.value_counts()"
      ],
      "metadata": {
        "colab": {
          "base_uri": "https://localhost:8080/"
        },
        "id": "5boEzAU_cdrv",
        "outputId": "a056ce66-8282-4d25-bb22-d0e74bf1b2b7"
      },
      "execution_count": 14,
      "outputs": [
        {
          "output_type": "execute_result",
          "data": {
            "text/plain": [
              "lead\n",
              "Akshay Kumar        48\n",
              "Amitabh Bachchan    45\n",
              "Ajay Devgn          38\n",
              "Salman Khan         31\n",
              "Sanjay Dutt         26\n",
              "                    ..\n",
              "Diganth              1\n",
              "Parveen Kaur         1\n",
              "Seema Azmi           1\n",
              "Akanksha Puri        1\n",
              "Edwin Fernandes      1\n",
              "Name: count, Length: 566, dtype: int64"
            ]
          },
          "metadata": {},
          "execution_count": 14
        }
      ]
    },
    {
      "cell_type": "code",
      "source": [
        "# 4. sort_values: Takes two arguments, ascending and inplace\n",
        "# By default sorting order is ascending order\n",
        "# By default inplace (permanent changes) is false. (To make permanent changes,\n",
        "# first copy the data into another variable to protect the original dataset.)\n",
        "vk.sort_values()"
      ],
      "metadata": {
        "colab": {
          "base_uri": "https://localhost:8080/"
        },
        "id": "0NeRVVqudkiz",
        "outputId": "fa2f9005-e762-41e0-f307-51e20082ad2f"
      },
      "execution_count": 15,
      "outputs": [
        {
          "output_type": "execute_result",
          "data": {
            "text/plain": [
              "match_no\n",
              "87       0\n",
              "211      0\n",
              "207      0\n",
              "206      0\n",
              "91       0\n",
              "      ... \n",
              "164    100\n",
              "120    100\n",
              "123    108\n",
              "126    109\n",
              "128    113\n",
              "Name: runs, Length: 215, dtype: int64"
            ]
          },
          "metadata": {},
          "execution_count": 15
        }
      ]
    },
    {
      "cell_type": "code",
      "source": [
        "# sort_values() takes an argument ascending through which we can sort in reverse order.\n",
        "vk.sort_values(ascending=False)"
      ],
      "metadata": {
        "colab": {
          "base_uri": "https://localhost:8080/"
        },
        "id": "DX0KPmoefBl-",
        "outputId": "7f821924-8d6a-43a9-fe14-907d8025e9c5"
      },
      "execution_count": 16,
      "outputs": [
        {
          "output_type": "execute_result",
          "data": {
            "text/plain": [
              "match_no\n",
              "128    113\n",
              "126    109\n",
              "123    108\n",
              "164    100\n",
              "120    100\n",
              "      ... \n",
              "93       0\n",
              "211      0\n",
              "130      0\n",
              "8        0\n",
              "135      0\n",
              "Name: runs, Length: 215, dtype: int64"
            ]
          },
          "metadata": {},
          "execution_count": 16
        }
      ]
    },
    {
      "cell_type": "code",
      "source": [
        "# Challenge: Fetch the highest score only (using method chaining: output of one method becomes input for another)\n",
        "highest_score_vk = vk.sort_values(ascending=False).head(1).values[0]"
      ],
      "metadata": {
        "id": "t8LwpQWffIoI"
      },
      "execution_count": 17,
      "outputs": []
    },
    {
      "cell_type": "code",
      "source": [
        "print(\"Highest score of virat kohli in IPL is: \" + str(highest_score_vk))\n",
        "print(type(highest_score_vk))"
      ],
      "metadata": {
        "colab": {
          "base_uri": "https://localhost:8080/"
        },
        "id": "VSW4KiwffUbA",
        "outputId": "0446283c-8b2e-4485-ee88-79e6ec99bf00"
      },
      "execution_count": 18,
      "outputs": [
        {
          "output_type": "stream",
          "name": "stdout",
          "text": [
            "Highest score of virat kohli in IPL is: 113\n",
            "<class 'numpy.int64'>\n"
          ]
        }
      ]
    },
    {
      "cell_type": "code",
      "source": [
        "vk\n",
        "# no permanent changes till not stored in a variable.\n",
        "# or used argument inplace=True."
      ],
      "metadata": {
        "colab": {
          "base_uri": "https://localhost:8080/"
        },
        "id": "QwYVt6YYfu3w",
        "outputId": "8bff7bf6-ce35-48ee-efa0-26d50c6a0d2c"
      },
      "execution_count": 19,
      "outputs": [
        {
          "output_type": "execute_result",
          "data": {
            "text/plain": [
              "match_no\n",
              "1       1\n",
              "2      23\n",
              "3      13\n",
              "4      12\n",
              "5       1\n",
              "       ..\n",
              "211     0\n",
              "212    20\n",
              "213    73\n",
              "214    25\n",
              "215     7\n",
              "Name: runs, Length: 215, dtype: int64"
            ]
          },
          "metadata": {},
          "execution_count": 19
        }
      ]
    },
    {
      "cell_type": "markdown",
      "source": [
        "**Again ! Pre-defined Error** to show a concept that,\n",
        "you should always copy a series into another variabel\n",
        "before sorting values with inplace, because inplace make\n",
        "permanent changes to the original series."
      ],
      "metadata": {
        "id": "RbcSXK4wikBX"
      }
    },
    {
      "cell_type": "code",
      "source": [
        "vk.sort_values(inplace=True)"
      ],
      "metadata": {
        "colab": {
          "base_uri": "https://localhost:8080/",
          "height": 280
        },
        "id": "AX76q8dQhuMp",
        "outputId": "2425cd8f-51e5-4781-a254-5edc3ef37443"
      },
      "execution_count": 21,
      "outputs": [
        {
          "output_type": "error",
          "ename": "ValueError",
          "evalue": "This Series is a view of some other array, to sort in-place you must create a copy",
          "traceback": [
            "\u001b[0;31m---------------------------------------------------------------------------\u001b[0m",
            "\u001b[0;31mValueError\u001b[0m                                Traceback (most recent call last)",
            "\u001b[0;32m<ipython-input-21-64026e391f6f>\u001b[0m in \u001b[0;36m<cell line: 1>\u001b[0;34m()\u001b[0m\n\u001b[0;32m----> 1\u001b[0;31m \u001b[0mvk\u001b[0m\u001b[0;34m.\u001b[0m\u001b[0msort_values\u001b[0m\u001b[0;34m(\u001b[0m\u001b[0minplace\u001b[0m\u001b[0;34m=\u001b[0m\u001b[0;32mTrue\u001b[0m\u001b[0;34m)\u001b[0m\u001b[0;34m\u001b[0m\u001b[0;34m\u001b[0m\u001b[0m\n\u001b[0m",
            "\u001b[0;32m/usr/local/lib/python3.10/dist-packages/pandas/core/series.py\u001b[0m in \u001b[0;36msort_values\u001b[0;34m(self, axis, ascending, inplace, kind, na_position, ignore_index, key)\u001b[0m\n\u001b[1;32m   3612\u001b[0m         \u001b[0;31m# GH 5856/5853\u001b[0m\u001b[0;34m\u001b[0m\u001b[0;34m\u001b[0m\u001b[0m\n\u001b[1;32m   3613\u001b[0m         \u001b[0;32mif\u001b[0m \u001b[0minplace\u001b[0m \u001b[0;32mand\u001b[0m \u001b[0mself\u001b[0m\u001b[0;34m.\u001b[0m\u001b[0m_is_cached\u001b[0m\u001b[0;34m:\u001b[0m\u001b[0;34m\u001b[0m\u001b[0;34m\u001b[0m\u001b[0m\n\u001b[0;32m-> 3614\u001b[0;31m             raise ValueError(\n\u001b[0m\u001b[1;32m   3615\u001b[0m                 \u001b[0;34m\"This Series is a view of some other array, to \"\u001b[0m\u001b[0;34m\u001b[0m\u001b[0;34m\u001b[0m\u001b[0m\n\u001b[1;32m   3616\u001b[0m                 \u001b[0;34m\"sort in-place you must create a copy\"\u001b[0m\u001b[0;34m\u001b[0m\u001b[0;34m\u001b[0m\u001b[0m\n",
            "\u001b[0;31mValueError\u001b[0m: This Series is a view of some other array, to sort in-place you must create a copy"
          ]
        }
      ]
    },
    {
      "cell_type": "markdown",
      "source": [
        "**SOLUTION**"
      ],
      "metadata": {
        "id": "Y2EGevW3i-vY"
      }
    },
    {
      "source": [
        "vk_sorted = vk.sort_values() # Create a sorted copy\n",
        "vk_sorted.sort_values(inplace=True)  # Now you can sort in-place"
      ],
      "cell_type": "code",
      "metadata": {
        "id": "lIk8wccLh2-P"
      },
      "execution_count": 22,
      "outputs": []
    },
    {
      "cell_type": "code",
      "source": [
        "print(vk.head(10))\n",
        "print(vk_sorted.head(10))"
      ],
      "metadata": {
        "colab": {
          "base_uri": "https://localhost:8080/"
        },
        "id": "kG5Mx9b-iQve",
        "outputId": "42c94198-4fa1-4440-933b-033d05286b5b"
      },
      "execution_count": 23,
      "outputs": [
        {
          "output_type": "stream",
          "name": "stdout",
          "text": [
            "match_no\n",
            "1      1\n",
            "2     23\n",
            "3     13\n",
            "4     12\n",
            "5      1\n",
            "6      9\n",
            "7     34\n",
            "8      0\n",
            "9     21\n",
            "10     3\n",
            "Name: runs, dtype: int64\n",
            "match_no\n",
            "87     0\n",
            "211    0\n",
            "207    0\n",
            "206    0\n",
            "91     0\n",
            "93     0\n",
            "8      0\n",
            "130    0\n",
            "135    0\n",
            "204    1\n",
            "Name: runs, dtype: int64\n"
          ]
        }
      ]
    },
    {
      "cell_type": "code",
      "source": [
        "# sort_index\n",
        "movies.sort_index()"
      ],
      "metadata": {
        "colab": {
          "base_uri": "https://localhost:8080/"
        },
        "id": "rfOJ2vBYjCWQ",
        "outputId": "8607dbe3-6603-4696-f8da-bae62bd33d25"
      },
      "execution_count": 24,
      "outputs": [
        {
          "output_type": "execute_result",
          "data": {
            "text/plain": [
              "movie\n",
              "1920 (film)                   Rajniesh Duggall\n",
              "1920: London                     Sharman Joshi\n",
              "1920: The Evil Returns             Vicky Ahuja\n",
              "1971 (2007 film)                Manoj Bajpayee\n",
              "2 States (2014 film)              Arjun Kapoor\n",
              "                                   ...        \n",
              "Zindagi 50-50                      Veena Malik\n",
              "Zindagi Na Milegi Dobara        Hrithik Roshan\n",
              "Zindagi Tere Naam           Mithun Chakraborty\n",
              "Zokkomon                       Darsheel Safary\n",
              "Zor Lagaa Ke...Haiya!            Meghan Jadhav\n",
              "Name: lead, Length: 1500, dtype: object"
            ]
          },
          "metadata": {},
          "execution_count": 24
        }
      ]
    },
    {
      "cell_type": "code",
      "source": [
        "movies_sorted = movies.sort_index()\n",
        "movies_sorted.sort_index(inplace=True)"
      ],
      "metadata": {
        "id": "IZGdTVbZjPZn"
      },
      "execution_count": 25,
      "outputs": []
    },
    {
      "cell_type": "code",
      "source": [
        "print(movies.head(10))\n",
        "print(movies_sorted.head(10))"
      ],
      "metadata": {
        "colab": {
          "base_uri": "https://localhost:8080/"
        },
        "id": "98JTDlVQj1eX",
        "outputId": "b342da5f-e668-4533-cd97-353e3388a73b"
      },
      "execution_count": 26,
      "outputs": [
        {
          "output_type": "stream",
          "name": "stdout",
          "text": [
            "movie\n",
            "Uri: The Surgical Strike                       Vicky Kaushal\n",
            "Battalion 609                                    Vicky Ahuja\n",
            "The Accidental Prime Minister (film)             Anupam Kher\n",
            "Why Cheat India                                Emraan Hashmi\n",
            "Evening Shadows                             Mona Ambegaonkar\n",
            "Soni (film)                             Geetika Vidya Ohlyan\n",
            "Fraud Saiyaan                                   Arshad Warsi\n",
            "Bombairiya                                      Radhika Apte\n",
            "Manikarnika: The Queen of Jhansi              Kangana Ranaut\n",
            "Thackeray (film)                         Nawazuddin Siddiqui\n",
            "Name: lead, dtype: object\n",
            "movie\n",
            "1920 (film)               Rajniesh Duggall\n",
            "1920: London                 Sharman Joshi\n",
            "1920: The Evil Returns         Vicky Ahuja\n",
            "1971 (2007 film)            Manoj Bajpayee\n",
            "2 States (2014 film)          Arjun Kapoor\n",
            "22 Yards                       Barun Sobti\n",
            "3 A.M. (2014 film)           Salil Acharya\n",
            "3 Deewarein               Naseeruddin Shah\n",
            "3 Idiots                        Aamir Khan\n",
            "3 Storeys                      Aisha Ahmed\n",
            "Name: lead, dtype: object\n"
          ]
        }
      ]
    },
    {
      "cell_type": "code",
      "source": [
        "# descending order\n",
        "movies.sort_index(ascending=False)"
      ],
      "metadata": {
        "colab": {
          "base_uri": "https://localhost:8080/"
        },
        "id": "YqcLjULkj6Ru",
        "outputId": "05d3af56-f7a4-4b15-c450-d8a07885fe4c"
      },
      "execution_count": 27,
      "outputs": [
        {
          "output_type": "execute_result",
          "data": {
            "text/plain": [
              "movie\n",
              "Zor Lagaa Ke...Haiya!            Meghan Jadhav\n",
              "Zokkomon                       Darsheel Safary\n",
              "Zindagi Tere Naam           Mithun Chakraborty\n",
              "Zindagi Na Milegi Dobara        Hrithik Roshan\n",
              "Zindagi 50-50                      Veena Malik\n",
              "                                   ...        \n",
              "2 States (2014 film)              Arjun Kapoor\n",
              "1971 (2007 film)                Manoj Bajpayee\n",
              "1920: The Evil Returns             Vicky Ahuja\n",
              "1920: London                     Sharman Joshi\n",
              "1920 (film)                   Rajniesh Duggall\n",
              "Name: lead, Length: 1500, dtype: object"
            ]
          },
          "metadata": {},
          "execution_count": 27
        }
      ]
    },
    {
      "cell_type": "code",
      "source": [],
      "metadata": {
        "id": "ZctRBl-RkUp2"
      },
      "execution_count": 27,
      "outputs": []
    },
    {
      "cell_type": "markdown",
      "source": [
        "**SERIES MATHS METHODS**"
      ],
      "metadata": {
        "id": "CL06TUy1kive"
      }
    },
    {
      "cell_type": "code",
      "source": [
        "# count\n",
        "# total no.of items inside a series (only non-missing values i.e nan)\n",
        "# while size counts nan values also.\n",
        "vk.count()"
      ],
      "metadata": {
        "colab": {
          "base_uri": "https://localhost:8080/"
        },
        "id": "VHnV0c43kUny",
        "outputId": "fc1df5f1-6c7c-4e75-8d5f-59477a3c3cab"
      },
      "execution_count": 28,
      "outputs": [
        {
          "output_type": "execute_result",
          "data": {
            "text/plain": [
              "215"
            ]
          },
          "metadata": {},
          "execution_count": 28
        }
      ]
    },
    {
      "cell_type": "code",
      "source": [
        "# sum and product\n",
        "subs.sum()"
      ],
      "metadata": {
        "colab": {
          "base_uri": "https://localhost:8080/"
        },
        "id": "RyuRHINskUlR",
        "outputId": "52990160-5b9a-4221-eba9-031da1cfff63"
      },
      "execution_count": 29,
      "outputs": [
        {
          "output_type": "execute_result",
          "data": {
            "text/plain": [
              "49510"
            ]
          },
          "metadata": {},
          "execution_count": 29
        }
      ]
    },
    {
      "cell_type": "code",
      "source": [
        "# means, median, mode, std, var\n",
        "print(subs.mean()) # avg\n",
        "print(vk.median()) # middle value in a data set when the values are arranged in ascending or descending order\n",
        "print(movies.mode()) # most repeated value ___________\n",
        "print(subs.std()) # std deviation sqroot--/(n-mean)^2/n\n",
        "print(vk.var()) # variance, same as std but without sqroot."
      ],
      "metadata": {
        "colab": {
          "base_uri": "https://localhost:8080/"
        },
        "id": "YdAFQLKOkUi6",
        "outputId": "7f86e779-de94-4212-ba9a-716ecc076d24"
      },
      "execution_count": 30,
      "outputs": [
        {
          "output_type": "stream",
          "name": "stdout",
          "text": [
            "135.64383561643837\n",
            "24.0\n",
            "0    Akshay Kumar\n",
            "Name: lead, dtype: object\n",
            "62.6750230372527\n",
            "688.0024777222343\n"
          ]
        }
      ]
    },
    {
      "cell_type": "code",
      "source": [
        "# min / max\n",
        "print(vk.max())\n",
        "print(subs.min())"
      ],
      "metadata": {
        "colab": {
          "base_uri": "https://localhost:8080/"
        },
        "id": "qI7ragTpkUgj",
        "outputId": "aab876d6-ce59-4dde-fb83-85eff001cc6f"
      },
      "execution_count": 31,
      "outputs": [
        {
          "output_type": "stream",
          "name": "stdout",
          "text": [
            "113\n",
            "33\n"
          ]
        }
      ]
    },
    {
      "cell_type": "code",
      "source": [
        "# describe\n",
        "# provides a summary of mathematical quantities of a particular dataset.\n",
        "vk.describe()"
      ],
      "metadata": {
        "colab": {
          "base_uri": "https://localhost:8080/"
        },
        "id": "KBkGW39ekUeH",
        "outputId": "4bee499d-a309-4c48-acd1-8ba6d040d8a4"
      },
      "execution_count": 32,
      "outputs": [
        {
          "output_type": "execute_result",
          "data": {
            "text/plain": [
              "count    215.000000\n",
              "mean      30.855814\n",
              "std       26.229801\n",
              "min        0.000000\n",
              "25%        9.000000\n",
              "50%       24.000000\n",
              "75%       48.000000\n",
              "max      113.000000\n",
              "Name: runs, dtype: float64"
            ]
          },
          "metadata": {},
          "execution_count": 32
        }
      ]
    },
    {
      "cell_type": "code",
      "source": [
        "subs.describe()"
      ],
      "metadata": {
        "colab": {
          "base_uri": "https://localhost:8080/"
        },
        "id": "q3F3lKzkkUbg",
        "outputId": "4abdd6f1-3606-4d8f-a853-4e28280ca9be"
      },
      "execution_count": 33,
      "outputs": [
        {
          "output_type": "execute_result",
          "data": {
            "text/plain": [
              "count    365.000000\n",
              "mean     135.643836\n",
              "std       62.675023\n",
              "min       33.000000\n",
              "25%       88.000000\n",
              "50%      123.000000\n",
              "75%      177.000000\n",
              "max      396.000000\n",
              "Name: Subscribers gained, dtype: float64"
            ]
          },
          "metadata": {},
          "execution_count": 33
        }
      ]
    },
    {
      "cell_type": "code",
      "source": [
        "# QuickNote: DataFrame = multiple series working together.\n",
        "## Series Indexing\n",
        "x = pd.Series([12,13,14,35,46,57,58,79,9])\n",
        "print(x[3])\n",
        "# Negative indexing won't work with default indexes, example: x[-1]\n",
        "\n",
        "# Using string indexing\n",
        "print(movies['Zindagi Na Milegi Dobara'])\n",
        "\n",
        "print(movies[50])\n",
        "# we are able to do this indexing even when we specified movie names (string)\n",
        "# as index, because pandas.Series automatically always creates an index\n",
        "# of integers to the length of data starting from 0.\n",
        "\n",
        "# Negative indexing will work with Custom string indexes only.\n",
        "print(movies[-10])\n",
        "print(vk[-1]) # here, Custom index is of type integer, hence will give error."
      ],
      "metadata": {
        "colab": {
          "base_uri": "https://localhost:8080/",
          "height": 547
        },
        "id": "WSjac5VdkUY_",
        "outputId": "d6843f7d-86f2-4ae8-c4e2-0dfbbe26bbc6"
      },
      "execution_count": 77,
      "outputs": [
        {
          "output_type": "stream",
          "name": "stdout",
          "text": [
            "35\n",
            "Hrithik Roshan\n",
            "Akshay Kumar\n",
            "Dino Morea\n"
          ]
        },
        {
          "output_type": "error",
          "ename": "KeyError",
          "evalue": "-1",
          "traceback": [
            "\u001b[0;31m---------------------------------------------------------------------------\u001b[0m",
            "\u001b[0;31mKeyError\u001b[0m                                  Traceback (most recent call last)",
            "\u001b[0;32m/usr/local/lib/python3.10/dist-packages/pandas/core/indexes/base.py\u001b[0m in \u001b[0;36mget_loc\u001b[0;34m(self, key)\u001b[0m\n\u001b[1;32m   3652\u001b[0m         \u001b[0;32mtry\u001b[0m\u001b[0;34m:\u001b[0m\u001b[0;34m\u001b[0m\u001b[0;34m\u001b[0m\u001b[0m\n\u001b[0;32m-> 3653\u001b[0;31m             \u001b[0;32mreturn\u001b[0m \u001b[0mself\u001b[0m\u001b[0;34m.\u001b[0m\u001b[0m_engine\u001b[0m\u001b[0;34m.\u001b[0m\u001b[0mget_loc\u001b[0m\u001b[0;34m(\u001b[0m\u001b[0mcasted_key\u001b[0m\u001b[0;34m)\u001b[0m\u001b[0;34m\u001b[0m\u001b[0;34m\u001b[0m\u001b[0m\n\u001b[0m\u001b[1;32m   3654\u001b[0m         \u001b[0;32mexcept\u001b[0m \u001b[0mKeyError\u001b[0m \u001b[0;32mas\u001b[0m \u001b[0merr\u001b[0m\u001b[0;34m:\u001b[0m\u001b[0;34m\u001b[0m\u001b[0;34m\u001b[0m\u001b[0m\n",
            "\u001b[0;32m/usr/local/lib/python3.10/dist-packages/pandas/_libs/index.pyx\u001b[0m in \u001b[0;36mpandas._libs.index.IndexEngine.get_loc\u001b[0;34m()\u001b[0m\n",
            "\u001b[0;32m/usr/local/lib/python3.10/dist-packages/pandas/_libs/index.pyx\u001b[0m in \u001b[0;36mpandas._libs.index.IndexEngine.get_loc\u001b[0;34m()\u001b[0m\n",
            "\u001b[0;32mpandas/_libs/hashtable_class_helper.pxi\u001b[0m in \u001b[0;36mpandas._libs.hashtable.Int64HashTable.get_item\u001b[0;34m()\u001b[0m\n",
            "\u001b[0;32mpandas/_libs/hashtable_class_helper.pxi\u001b[0m in \u001b[0;36mpandas._libs.hashtable.Int64HashTable.get_item\u001b[0;34m()\u001b[0m\n",
            "\u001b[0;31mKeyError\u001b[0m: -1",
            "\nThe above exception was the direct cause of the following exception:\n",
            "\u001b[0;31mKeyError\u001b[0m                                  Traceback (most recent call last)",
            "\u001b[0;32m<ipython-input-77-ec75a0214173>\u001b[0m in \u001b[0;36m<cell line: 17>\u001b[0;34m()\u001b[0m\n\u001b[1;32m     15\u001b[0m \u001b[0;31m# Negative indexing will work with Custom string indexes only.\u001b[0m\u001b[0;34m\u001b[0m\u001b[0;34m\u001b[0m\u001b[0m\n\u001b[1;32m     16\u001b[0m \u001b[0mprint\u001b[0m\u001b[0;34m(\u001b[0m\u001b[0mmovies\u001b[0m\u001b[0;34m[\u001b[0m\u001b[0;34m-\u001b[0m\u001b[0;36m10\u001b[0m\u001b[0;34m]\u001b[0m\u001b[0;34m)\u001b[0m\u001b[0;34m\u001b[0m\u001b[0;34m\u001b[0m\u001b[0m\n\u001b[0;32m---> 17\u001b[0;31m \u001b[0mprint\u001b[0m\u001b[0;34m(\u001b[0m\u001b[0mvk\u001b[0m\u001b[0;34m[\u001b[0m\u001b[0;34m-\u001b[0m\u001b[0;36m1\u001b[0m\u001b[0;34m]\u001b[0m\u001b[0;34m)\u001b[0m \u001b[0;31m# here, Custom index is of type integer, hence will give error.\u001b[0m\u001b[0;34m\u001b[0m\u001b[0;34m\u001b[0m\u001b[0m\n\u001b[0m",
            "\u001b[0;32m/usr/local/lib/python3.10/dist-packages/pandas/core/series.py\u001b[0m in \u001b[0;36m__getitem__\u001b[0;34m(self, key)\u001b[0m\n\u001b[1;32m   1005\u001b[0m \u001b[0;34m\u001b[0m\u001b[0m\n\u001b[1;32m   1006\u001b[0m         \u001b[0;32melif\u001b[0m \u001b[0mkey_is_scalar\u001b[0m\u001b[0;34m:\u001b[0m\u001b[0;34m\u001b[0m\u001b[0;34m\u001b[0m\u001b[0m\n\u001b[0;32m-> 1007\u001b[0;31m             \u001b[0;32mreturn\u001b[0m \u001b[0mself\u001b[0m\u001b[0;34m.\u001b[0m\u001b[0m_get_value\u001b[0m\u001b[0;34m(\u001b[0m\u001b[0mkey\u001b[0m\u001b[0;34m)\u001b[0m\u001b[0;34m\u001b[0m\u001b[0;34m\u001b[0m\u001b[0m\n\u001b[0m\u001b[1;32m   1008\u001b[0m \u001b[0;34m\u001b[0m\u001b[0m\n\u001b[1;32m   1009\u001b[0m         \u001b[0;32mif\u001b[0m \u001b[0mis_hashable\u001b[0m\u001b[0;34m(\u001b[0m\u001b[0mkey\u001b[0m\u001b[0;34m)\u001b[0m\u001b[0;34m:\u001b[0m\u001b[0;34m\u001b[0m\u001b[0;34m\u001b[0m\u001b[0m\n",
            "\u001b[0;32m/usr/local/lib/python3.10/dist-packages/pandas/core/series.py\u001b[0m in \u001b[0;36m_get_value\u001b[0;34m(self, label, takeable)\u001b[0m\n\u001b[1;32m   1114\u001b[0m \u001b[0;34m\u001b[0m\u001b[0m\n\u001b[1;32m   1115\u001b[0m         \u001b[0;31m# Similar to Index.get_value, but we do not fall back to positional\u001b[0m\u001b[0;34m\u001b[0m\u001b[0;34m\u001b[0m\u001b[0m\n\u001b[0;32m-> 1116\u001b[0;31m         \u001b[0mloc\u001b[0m \u001b[0;34m=\u001b[0m \u001b[0mself\u001b[0m\u001b[0;34m.\u001b[0m\u001b[0mindex\u001b[0m\u001b[0;34m.\u001b[0m\u001b[0mget_loc\u001b[0m\u001b[0;34m(\u001b[0m\u001b[0mlabel\u001b[0m\u001b[0;34m)\u001b[0m\u001b[0;34m\u001b[0m\u001b[0;34m\u001b[0m\u001b[0m\n\u001b[0m\u001b[1;32m   1117\u001b[0m \u001b[0;34m\u001b[0m\u001b[0m\n\u001b[1;32m   1118\u001b[0m         \u001b[0;32mif\u001b[0m \u001b[0mis_integer\u001b[0m\u001b[0;34m(\u001b[0m\u001b[0mloc\u001b[0m\u001b[0;34m)\u001b[0m\u001b[0;34m:\u001b[0m\u001b[0;34m\u001b[0m\u001b[0;34m\u001b[0m\u001b[0m\n",
            "\u001b[0;32m/usr/local/lib/python3.10/dist-packages/pandas/core/indexes/base.py\u001b[0m in \u001b[0;36mget_loc\u001b[0;34m(self, key)\u001b[0m\n\u001b[1;32m   3653\u001b[0m             \u001b[0;32mreturn\u001b[0m \u001b[0mself\u001b[0m\u001b[0;34m.\u001b[0m\u001b[0m_engine\u001b[0m\u001b[0;34m.\u001b[0m\u001b[0mget_loc\u001b[0m\u001b[0;34m(\u001b[0m\u001b[0mcasted_key\u001b[0m\u001b[0;34m)\u001b[0m\u001b[0;34m\u001b[0m\u001b[0;34m\u001b[0m\u001b[0m\n\u001b[1;32m   3654\u001b[0m         \u001b[0;32mexcept\u001b[0m \u001b[0mKeyError\u001b[0m \u001b[0;32mas\u001b[0m \u001b[0merr\u001b[0m\u001b[0;34m:\u001b[0m\u001b[0;34m\u001b[0m\u001b[0;34m\u001b[0m\u001b[0m\n\u001b[0;32m-> 3655\u001b[0;31m             \u001b[0;32mraise\u001b[0m \u001b[0mKeyError\u001b[0m\u001b[0;34m(\u001b[0m\u001b[0mkey\u001b[0m\u001b[0;34m)\u001b[0m \u001b[0;32mfrom\u001b[0m \u001b[0merr\u001b[0m\u001b[0;34m\u001b[0m\u001b[0;34m\u001b[0m\u001b[0m\n\u001b[0m\u001b[1;32m   3656\u001b[0m         \u001b[0;32mexcept\u001b[0m \u001b[0mTypeError\u001b[0m\u001b[0;34m:\u001b[0m\u001b[0;34m\u001b[0m\u001b[0;34m\u001b[0m\u001b[0m\n\u001b[1;32m   3657\u001b[0m             \u001b[0;31m# If we have a listlike key, _check_indexing_error will raise\u001b[0m\u001b[0;34m\u001b[0m\u001b[0;34m\u001b[0m\u001b[0m\n",
            "\u001b[0;31mKeyError\u001b[0m: -1"
          ]
        }
      ]
    },
    {
      "cell_type": "code",
      "source": [
        "# Slicing: fetching multiple items\n",
        "vk[5:15+1]"
      ],
      "metadata": {
        "colab": {
          "base_uri": "https://localhost:8080/"
        },
        "id": "pVr8DCR0kUWe",
        "outputId": "e41d2fa6-659c-45da-f889-7badb678f477"
      },
      "execution_count": 78,
      "outputs": [
        {
          "output_type": "execute_result",
          "data": {
            "text/plain": [
              "match_no\n",
              "6      9\n",
              "7     34\n",
              "8      0\n",
              "9     21\n",
              "10     3\n",
              "11    10\n",
              "12    38\n",
              "13     3\n",
              "14    11\n",
              "15    50\n",
              "16     2\n",
              "Name: runs, dtype: int64"
            ]
          },
          "metadata": {},
          "execution_count": 78
        }
      ]
    },
    {
      "cell_type": "code",
      "source": [
        "# slicing from bottom\n",
        "vk[-10:] # from -10 to last"
      ],
      "metadata": {
        "colab": {
          "base_uri": "https://localhost:8080/"
        },
        "id": "VxCn90pCkT8n",
        "outputId": "7699bf7b-8106-4736-91be-4826073dfbd4"
      },
      "execution_count": 79,
      "outputs": [
        {
          "output_type": "execute_result",
          "data": {
            "text/plain": [
              "match_no\n",
              "206     0\n",
              "207     0\n",
              "208     9\n",
              "209    58\n",
              "210    30\n",
              "211     0\n",
              "212    20\n",
              "213    73\n",
              "214    25\n",
              "215     7\n",
              "Name: runs, dtype: int64"
            ]
          },
          "metadata": {},
          "execution_count": 79
        }
      ]
    },
    {
      "cell_type": "code",
      "source": [
        "movies[::2] # skips one value & moves to the next"
      ],
      "metadata": {
        "colab": {
          "base_uri": "https://localhost:8080/"
        },
        "id": "xE0A8CpqriMO",
        "outputId": "7a812f2a-5b10-4d38-ccef-c287780cec52"
      },
      "execution_count": 80,
      "outputs": [
        {
          "output_type": "execute_result",
          "data": {
            "text/plain": [
              "movie\n",
              "Uri: The Surgical Strike                   Vicky Kaushal\n",
              "The Accidental Prime Minister (film)         Anupam Kher\n",
              "Evening Shadows                         Mona Ambegaonkar\n",
              "Fraud Saiyaan                               Arshad Warsi\n",
              "Manikarnika: The Queen of Jhansi          Kangana Ranaut\n",
              "                                              ...       \n",
              "Raaz (2002 film)                              Dino Morea\n",
              "Waisa Bhi Hota Hai Part II                  Arshad Warsi\n",
              "Kaante                                  Amitabh Bachchan\n",
              "Aankhen (2002 film)                     Amitabh Bachchan\n",
              "Company (film)                                Ajay Devgn\n",
              "Name: lead, Length: 750, dtype: object"
            ]
          },
          "metadata": {},
          "execution_count": 80
        }
      ]
    },
    {
      "cell_type": "code",
      "source": [
        "# Fancy indexing: specifying particular records needed in a list\n",
        "vk[[1,3,4,5]]"
      ],
      "metadata": {
        "colab": {
          "base_uri": "https://localhost:8080/"
        },
        "id": "tf8p-1gBriJl",
        "outputId": "7c236448-70e6-4ff3-9569-a62793ac69c9"
      },
      "execution_count": 81,
      "outputs": [
        {
          "output_type": "execute_result",
          "data": {
            "text/plain": [
              "match_no\n",
              "1     1\n",
              "3    13\n",
              "4    12\n",
              "5     1\n",
              "Name: runs, dtype: int64"
            ]
          },
          "metadata": {},
          "execution_count": 81
        }
      ]
    },
    {
      "cell_type": "code",
      "source": [
        "# indexing using label. # Fancy indexing\n",
        "movies[['Kaante', 'Waisa Bhi Hota Hai Part II']] # just like dictionary"
      ],
      "metadata": {
        "colab": {
          "base_uri": "https://localhost:8080/"
        },
        "id": "c4oenVLYriG9",
        "outputId": "bcaa111c-a9a8-4bde-b484-7b2e15e38ba0"
      },
      "execution_count": 82,
      "outputs": [
        {
          "output_type": "execute_result",
          "data": {
            "text/plain": [
              "movie\n",
              "Kaante                        Amitabh Bachchan\n",
              "Waisa Bhi Hota Hai Part II        Arshad Warsi\n",
              "Name: lead, dtype: object"
            ]
          },
          "metadata": {},
          "execution_count": 82
        }
      ]
    },
    {
      "cell_type": "code",
      "source": [
        "#Editing Series\n",
        "# 1 using indexing\n",
        "marks_series = pd.Series([67,57,89,100],index=['maths','english','science','hindi'])\n",
        "marks_series[1]=100\n",
        "print(marks_series)"
      ],
      "metadata": {
        "colab": {
          "base_uri": "https://localhost:8080/"
        },
        "id": "3UUiE0XiriET",
        "outputId": "e17c47bc-3a6e-4f5d-ce4a-3fabd98f53cb"
      },
      "execution_count": 83,
      "outputs": [
        {
          "output_type": "stream",
          "name": "stdout",
          "text": [
            "maths       67\n",
            "english    100\n",
            "science     89\n",
            "hindi      100\n",
            "dtype: int64\n"
          ]
        }
      ]
    },
    {
      "cell_type": "code",
      "source": [
        "# 2. If index is not present.\n",
        "marks_series['python']=100\n",
        "print(marks_series)\n",
        "# appends the item to the end of series."
      ],
      "metadata": {
        "colab": {
          "base_uri": "https://localhost:8080/"
        },
        "id": "rzoezEIiriB2",
        "outputId": "6fc2d681-3cae-4037-c022-a14d97ed3a5d"
      },
      "execution_count": 84,
      "outputs": [
        {
          "output_type": "stream",
          "name": "stdout",
          "text": [
            "maths       67\n",
            "english    100\n",
            "science     89\n",
            "hindi      100\n",
            "python     100\n",
            "dtype: int64\n"
          ]
        }
      ]
    },
    {
      "cell_type": "code",
      "source": [
        "# 3. using slicing\n",
        "marks_series[0:2] =0\n",
        "print(marks_series)"
      ],
      "metadata": {
        "colab": {
          "base_uri": "https://localhost:8080/"
        },
        "id": "CiW7BsFErh_4",
        "outputId": "c3bc2e04-bdc9-4286-fda9-7d1e01e86123"
      },
      "execution_count": 85,
      "outputs": [
        {
          "output_type": "stream",
          "name": "stdout",
          "text": [
            "maths        0\n",
            "english      0\n",
            "science     89\n",
            "hindi      100\n",
            "python     100\n",
            "dtype: int64\n"
          ]
        }
      ]
    },
    {
      "cell_type": "code",
      "source": [
        "marks_series\n",
        "# python does not change because it's not part of the series permanently."
      ],
      "metadata": {
        "colab": {
          "base_uri": "https://localhost:8080/"
        },
        "id": "Hg2UWEEQrh9S",
        "outputId": "a9c57bb9-41e6-4a0d-b88f-04019d5c627f"
      },
      "execution_count": 86,
      "outputs": [
        {
          "output_type": "execute_result",
          "data": {
            "text/plain": [
              "maths        0\n",
              "english      0\n",
              "science     89\n",
              "hindi      100\n",
              "python     100\n",
              "dtype: int64"
            ]
          },
          "metadata": {},
          "execution_count": 86
        }
      ]
    },
    {
      "cell_type": "code",
      "source": [
        "# Series with Python Functionalities"
      ],
      "metadata": {
        "id": "mNwFP-4irh6q"
      },
      "execution_count": 87,
      "outputs": []
    },
    {
      "cell_type": "code",
      "source": [
        "print(len(subs)) # total no.of records including nan values.\n",
        "print(type(subs)) # type of object\n",
        "print(dir(subs)) # returns list of functions & attributes accessible to the object passed inside dir()\n",
        "print(sorted(subs)) # returns list format\n",
        "print(min(subs))\n",
        "print(max(subs))"
      ],
      "metadata": {
        "colab": {
          "base_uri": "https://localhost:8080/"
        },
        "id": "ov1JRCUZrh39",
        "outputId": "c419df99-d402-43a3-e5af-60dcdbf4ec6f"
      },
      "execution_count": 88,
      "outputs": [
        {
          "output_type": "stream",
          "name": "stdout",
          "text": [
            "365\n",
            "<class 'pandas.core.series.Series'>\n",
            "['T', '_AXIS_LEN', '_AXIS_ORDERS', '_AXIS_TO_AXIS_NUMBER', '_HANDLED_TYPES', '__abs__', '__add__', '__and__', '__annotations__', '__array__', '__array_priority__', '__array_ufunc__', '__bool__', '__class__', '__contains__', '__copy__', '__deepcopy__', '__delattr__', '__delitem__', '__dict__', '__dir__', '__divmod__', '__doc__', '__eq__', '__finalize__', '__float__', '__floordiv__', '__format__', '__ge__', '__getattr__', '__getattribute__', '__getitem__', '__getstate__', '__gt__', '__hash__', '__iadd__', '__iand__', '__ifloordiv__', '__imod__', '__imul__', '__init__', '__init_subclass__', '__int__', '__invert__', '__ior__', '__ipow__', '__isub__', '__iter__', '__itruediv__', '__ixor__', '__le__', '__len__', '__lt__', '__matmul__', '__mod__', '__module__', '__mul__', '__ne__', '__neg__', '__new__', '__nonzero__', '__or__', '__pos__', '__pow__', '__radd__', '__rand__', '__rdivmod__', '__reduce__', '__reduce_ex__', '__repr__', '__rfloordiv__', '__rmatmul__', '__rmod__', '__rmul__', '__ror__', '__round__', '__rpow__', '__rsub__', '__rtruediv__', '__rxor__', '__setattr__', '__setitem__', '__setstate__', '__sizeof__', '__str__', '__sub__', '__subclasshook__', '__truediv__', '__weakref__', '__xor__', '_accessors', '_accum_func', '_add_numeric_operations', '_agg_examples_doc', '_agg_see_also_doc', '_align_frame', '_align_series', '_append', '_arith_method', '_as_manager', '_attrs', '_binop', '_cacher', '_can_hold_na', '_check_inplace_and_allows_duplicate_labels', '_check_inplace_setting', '_check_is_chained_assignment_possible', '_check_label_or_level_ambiguity', '_check_setitem_copy', '_clear_item_cache', '_clip_with_one_bound', '_clip_with_scalar', '_cmp_method', '_consolidate', '_consolidate_inplace', '_construct_axes_dict', '_construct_result', '_constructor', '_constructor_expanddim', '_convert_dtypes', '_data', '_dir_additions', '_dir_deletions', '_drop_axis', '_drop_labels_or_levels', '_duplicated', '_find_valid_index', '_flags', '_get_axis', '_get_axis_name', '_get_axis_number', '_get_axis_resolvers', '_get_block_manager_axis', '_get_bool_data', '_get_cacher', '_get_cleaned_column_resolvers', '_get_index_resolvers', '_get_label_or_level_values', '_get_numeric_data', '_get_value', '_get_values', '_get_values_tuple', '_get_with', '_gotitem', '_hidden_attrs', '_indexed_same', '_info_axis', '_info_axis_name', '_info_axis_number', '_init_dict', '_init_mgr', '_inplace_method', '_internal_names', '_internal_names_set', '_is_cached', '_is_copy', '_is_label_or_level_reference', '_is_label_reference', '_is_level_reference', '_is_mixed_type', '_is_view', '_item_cache', '_ixs', '_logical_func', '_logical_method', '_map_values', '_maybe_update_cacher', '_memory_usage', '_metadata', '_mgr', '_min_count_stat_function', '_name', '_needs_reindex_multi', '_protect_consolidate', '_reduce', '_references', '_reindex_axes', '_reindex_indexer', '_reindex_multi', '_reindex_with_indexers', '_rename', '_replace_single', '_repr_data_resource_', '_repr_latex_', '_reset_cache', '_reset_cacher', '_set_as_cached', '_set_axis', '_set_axis_name', '_set_axis_nocheck', '_set_is_copy', '_set_labels', '_set_name', '_set_value', '_set_values', '_set_with', '_set_with_engine', '_slice', '_stat_axis', '_stat_axis_name', '_stat_axis_number', '_stat_function', '_stat_function_ddof', '_take', '_take_with_is_copy', '_to_latex_via_styler', '_typ', '_update_inplace', '_validate_dtype', '_values', '_where', 'abs', 'add', 'add_prefix', 'add_suffix', 'agg', 'aggregate', 'align', 'all', 'any', 'apply', 'argmax', 'argmin', 'argsort', 'array', 'asfreq', 'asof', 'astype', 'at', 'at_time', 'attrs', 'autocorr', 'axes', 'backfill', 'between', 'between_time', 'bfill', 'bool', 'clip', 'combine', 'combine_first', 'compare', 'convert_dtypes', 'copy', 'corr', 'count', 'cov', 'cummax', 'cummin', 'cumprod', 'cumsum', 'describe', 'diff', 'div', 'divide', 'divmod', 'dot', 'drop', 'drop_duplicates', 'droplevel', 'dropna', 'dtype', 'dtypes', 'duplicated', 'empty', 'eq', 'equals', 'ewm', 'expanding', 'explode', 'factorize', 'ffill', 'fillna', 'filter', 'first', 'first_valid_index', 'flags', 'floordiv', 'ge', 'get', 'groupby', 'gt', 'hasnans', 'head', 'hist', 'iat', 'idxmax', 'idxmin', 'iloc', 'index', 'infer_objects', 'info', 'interpolate', 'is_monotonic_decreasing', 'is_monotonic_increasing', 'is_unique', 'isin', 'isna', 'isnull', 'item', 'items', 'keys', 'kurt', 'kurtosis', 'last', 'last_valid_index', 'le', 'loc', 'lt', 'map', 'mask', 'max', 'mean', 'median', 'memory_usage', 'min', 'mod', 'mode', 'mul', 'multiply', 'name', 'nbytes', 'ndim', 'ne', 'nlargest', 'notna', 'notnull', 'nsmallest', 'nunique', 'pad', 'pct_change', 'pipe', 'plot', 'pop', 'pow', 'prod', 'product', 'quantile', 'radd', 'rank', 'ravel', 'rdiv', 'rdivmod', 'reindex', 'reindex_like', 'rename', 'rename_axis', 'reorder_levels', 'repeat', 'replace', 'resample', 'reset_index', 'rfloordiv', 'rmod', 'rmul', 'rolling', 'round', 'rpow', 'rsub', 'rtruediv', 'sample', 'searchsorted', 'sem', 'set_axis', 'set_flags', 'shape', 'shift', 'size', 'skew', 'sort_index', 'sort_values', 'squeeze', 'std', 'sub', 'subtract', 'sum', 'swapaxes', 'swaplevel', 'tail', 'take', 'to_clipboard', 'to_csv', 'to_dict', 'to_excel', 'to_frame', 'to_hdf', 'to_json', 'to_latex', 'to_list', 'to_markdown', 'to_numpy', 'to_period', 'to_pickle', 'to_sql', 'to_string', 'to_timestamp', 'to_xarray', 'transform', 'transpose', 'truediv', 'truncate', 'tz_convert', 'tz_localize', 'unique', 'unstack', 'update', 'value_counts', 'values', 'var', 'view', 'where', 'xs']\n",
            "[33, 33, 35, 37, 39, 40, 40, 40, 40, 42, 42, 43, 44, 44, 44, 45, 46, 46, 48, 49, 49, 49, 49, 50, 50, 50, 51, 54, 56, 56, 56, 56, 57, 61, 62, 64, 65, 65, 66, 66, 66, 66, 67, 68, 70, 70, 70, 71, 71, 72, 72, 72, 72, 72, 73, 74, 74, 75, 76, 76, 76, 76, 77, 77, 78, 78, 78, 79, 79, 80, 80, 80, 81, 81, 82, 82, 83, 83, 83, 84, 84, 84, 85, 86, 86, 86, 87, 87, 87, 87, 88, 88, 88, 88, 88, 89, 89, 89, 90, 90, 90, 90, 91, 92, 92, 92, 93, 93, 93, 93, 95, 95, 96, 96, 96, 96, 97, 97, 98, 98, 99, 99, 100, 100, 100, 101, 101, 101, 102, 102, 103, 103, 104, 104, 104, 105, 105, 105, 105, 105, 105, 105, 105, 105, 108, 108, 108, 108, 108, 108, 109, 109, 110, 110, 110, 111, 111, 112, 113, 113, 113, 114, 114, 114, 114, 115, 115, 115, 115, 117, 117, 117, 118, 118, 119, 119, 119, 119, 120, 122, 123, 123, 123, 123, 123, 124, 125, 126, 127, 128, 128, 129, 130, 131, 131, 132, 132, 134, 134, 134, 135, 135, 136, 136, 136, 137, 138, 138, 138, 139, 140, 144, 145, 146, 146, 146, 146, 147, 149, 150, 150, 150, 150, 151, 152, 152, 152, 153, 153, 153, 154, 154, 154, 155, 155, 156, 156, 156, 156, 157, 157, 157, 157, 158, 158, 159, 159, 160, 160, 160, 160, 162, 164, 166, 167, 167, 168, 170, 170, 170, 170, 171, 172, 172, 173, 173, 173, 174, 174, 175, 175, 176, 176, 177, 178, 179, 179, 180, 180, 180, 182, 183, 183, 183, 184, 184, 184, 185, 185, 185, 185, 186, 186, 186, 188, 189, 190, 190, 192, 192, 192, 196, 196, 196, 197, 197, 202, 202, 202, 203, 204, 206, 207, 209, 210, 210, 211, 212, 213, 214, 216, 219, 220, 221, 221, 222, 222, 224, 225, 225, 226, 227, 228, 229, 230, 231, 233, 236, 236, 237, 241, 243, 244, 245, 247, 249, 254, 254, 258, 259, 259, 261, 261, 265, 267, 268, 269, 276, 276, 290, 295, 301, 306, 312, 396]\n",
            "33\n",
            "396\n"
          ]
        }
      ]
    },
    {
      "cell_type": "code",
      "source": [
        "# type conversion: data_type(object)\n",
        "print(list(marks_series))\n",
        "print(dict(marks_series))"
      ],
      "metadata": {
        "colab": {
          "base_uri": "https://localhost:8080/"
        },
        "id": "MFrqyik1vU1A",
        "outputId": "71f00133-e75f-473f-fff8-7bd8b6c5875a"
      },
      "execution_count": 89,
      "outputs": [
        {
          "output_type": "stream",
          "name": "stdout",
          "text": [
            "[0, 0, 89, 100, 100]\n",
            "{'maths': 0, 'english': 0, 'science': 89, 'hindi': 100, 'python': 100}\n"
          ]
        }
      ]
    },
    {
      "cell_type": "code",
      "source": [
        "# membership: in or not in\n",
        "# works on index values by default\n",
        "print('Zindagi 50-50' in movies)\n",
        "print('Zindagi 50-50' not in movies)"
      ],
      "metadata": {
        "colab": {
          "base_uri": "https://localhost:8080/"
        },
        "id": "2Zk0gIq0vUyv",
        "outputId": "977f6ef4-aa1b-4659-a72d-18b3c7c08758"
      },
      "execution_count": 90,
      "outputs": [
        {
          "output_type": "stream",
          "name": "stdout",
          "text": [
            "True\n",
            "False\n"
          ]
        }
      ]
    },
    {
      "cell_type": "code",
      "source": [
        "print('Akshay Kumar' in movies)"
      ],
      "metadata": {
        "colab": {
          "base_uri": "https://localhost:8080/"
        },
        "id": "tC76D4h4vUwi",
        "outputId": "7484cf74-0180-43e3-d3b7-ec3c4b440587"
      },
      "execution_count": 91,
      "outputs": [
        {
          "output_type": "stream",
          "name": "stdout",
          "text": [
            "False\n"
          ]
        }
      ]
    },
    {
      "cell_type": "code",
      "source": [
        "# Enable value based membership operation using '.values' attribute\n",
        "print('Akshay Kumar' in movies.values)"
      ],
      "metadata": {
        "colab": {
          "base_uri": "https://localhost:8080/"
        },
        "id": "HgXcRJvrvUtv",
        "outputId": "1f184708-587b-48f9-e13f-c698233d6a62"
      },
      "execution_count": 92,
      "outputs": [
        {
          "output_type": "stream",
          "name": "stdout",
          "text": [
            "True\n"
          ]
        }
      ]
    },
    {
      "cell_type": "code",
      "source": [
        "# Looping\n",
        "name = ['Naisarg', 'Nitish', 'Manisha', 'Aditya']\n",
        "age = [23, 35, 24, 23]\n",
        "students = pd.Series(age, index=name)\n",
        "print(\"By default prints the values: here ages,\")\n",
        "for age in students:\n",
        "    print(age)\n",
        "print(\"We can specify to print indexes as well:\")\n",
        "for names in students.index:\n",
        "    print(names)"
      ],
      "metadata": {
        "colab": {
          "base_uri": "https://localhost:8080/"
        },
        "id": "VUmYq3udvUrM",
        "outputId": "8342f739-b42e-4edc-ae80-fb7ab4545f6f"
      },
      "execution_count": 93,
      "outputs": [
        {
          "output_type": "stream",
          "name": "stdout",
          "text": [
            "By default prints the values: here ages,\n",
            "23\n",
            "35\n",
            "24\n",
            "23\n",
            "We can specify to print indexes as well:\n",
            "Naisarg\n",
            "Nitish\n",
            "Manisha\n",
            "Aditya\n"
          ]
        }
      ]
    },
    {
      "cell_type": "code",
      "source": [
        "# Arithmetic operators\n",
        "# How many years are remaining for each student to reach age 50?\n",
        "50 - students"
      ],
      "metadata": {
        "colab": {
          "base_uri": "https://localhost:8080/"
        },
        "id": "nYhuCja9vUoe",
        "outputId": "2c7e246a-226b-49d4-a1b1-efffe3f5485c"
      },
      "execution_count": 94,
      "outputs": [
        {
          "output_type": "execute_result",
          "data": {
            "text/plain": [
              "Naisarg    27\n",
              "Nitish     15\n",
              "Manisha    26\n",
              "Aditya     27\n",
              "dtype: int64"
            ]
          },
          "metadata": {},
          "execution_count": 94
        }
      ]
    },
    {
      "cell_type": "code",
      "source": [
        "# Relational operators: >,>=,<,<=,!,==,etc.\n",
        "vk >= 50"
      ],
      "metadata": {
        "colab": {
          "base_uri": "https://localhost:8080/"
        },
        "id": "Kzxgu4cDAr77",
        "outputId": "072e7a2f-fe97-4471-f03b-08c905fe29a3"
      },
      "execution_count": 95,
      "outputs": [
        {
          "output_type": "execute_result",
          "data": {
            "text/plain": [
              "match_no\n",
              "1      False\n",
              "2      False\n",
              "3      False\n",
              "4      False\n",
              "5      False\n",
              "       ...  \n",
              "211    False\n",
              "212    False\n",
              "213     True\n",
              "214    False\n",
              "215    False\n",
              "Name: runs, Length: 215, dtype: bool"
            ]
          },
          "metadata": {},
          "execution_count": 95
        }
      ]
    },
    {
      "cell_type": "code",
      "source": [
        "# Boolean Indexing on Series\n",
        "# Find no of 50's and 100's scored by kohli\n",
        "print(vk[vk>=50].value_counts().sum())\n",
        "print(vk[vk>=50].size)\n",
        "print(vk[vk>=50].count())"
      ],
      "metadata": {
        "colab": {
          "base_uri": "https://localhost:8080/"
        },
        "id": "LxZOLnEgDrJj",
        "outputId": "37ff6bf1-7c31-4807-ceb8-920d5b7a9d28"
      },
      "execution_count": 96,
      "outputs": [
        {
          "output_type": "stream",
          "name": "stdout",
          "text": [
            "50\n",
            "50\n",
            "50\n"
          ]
        }
      ]
    },
    {
      "cell_type": "code",
      "source": [
        "# find number of ducks\n",
        "vk[vk == 0].size"
      ],
      "metadata": {
        "colab": {
          "base_uri": "https://localhost:8080/"
        },
        "id": "6NuBLGtPDzel",
        "outputId": "b1bd00a9-f081-4f6e-aac3-13311e83438b"
      },
      "execution_count": 97,
      "outputs": [
        {
          "output_type": "execute_result",
          "data": {
            "text/plain": [
              "9"
            ]
          },
          "metadata": {},
          "execution_count": 97
        }
      ]
    },
    {
      "cell_type": "code",
      "source": [
        "# Count number of day when I had more than 200 subs a day\n",
        "subs[subs>200].count()"
      ],
      "metadata": {
        "colab": {
          "base_uri": "https://localhost:8080/"
        },
        "id": "zKD19XPVDzby",
        "outputId": "1e5b6740-6ce8-464c-9324-c33fee476da4"
      },
      "execution_count": 98,
      "outputs": [
        {
          "output_type": "execute_result",
          "data": {
            "text/plain": [
              "59"
            ]
          },
          "metadata": {},
          "execution_count": 98
        }
      ]
    },
    {
      "cell_type": "code",
      "source": [
        "# find actors who have done more than 20 movies\n",
        "num_movies = movies.value_counts() # how many time each value is repeating. here, name of actors.\n",
        "print(num_movies) # holds the total value counts of actors repeating. Hence, done that no.of movies.\n",
        "print(num_movies>20) # returns true false series\n",
        "print(num_movies[num_movies>20]) # returns the actors who have done more than 20 movies."
      ],
      "metadata": {
        "colab": {
          "base_uri": "https://localhost:8080/"
        },
        "id": "P2fwK_OgDzZU",
        "outputId": "ca24438a-c6a9-4733-da51-d3eeef94eec7"
      },
      "execution_count": 99,
      "outputs": [
        {
          "output_type": "stream",
          "name": "stdout",
          "text": [
            "lead\n",
            "Akshay Kumar        48\n",
            "Amitabh Bachchan    45\n",
            "Ajay Devgn          38\n",
            "Salman Khan         31\n",
            "Sanjay Dutt         26\n",
            "                    ..\n",
            "Diganth              1\n",
            "Parveen Kaur         1\n",
            "Seema Azmi           1\n",
            "Akanksha Puri        1\n",
            "Edwin Fernandes      1\n",
            "Name: count, Length: 566, dtype: int64\n",
            "lead\n",
            "Akshay Kumar         True\n",
            "Amitabh Bachchan     True\n",
            "Ajay Devgn           True\n",
            "Salman Khan          True\n",
            "Sanjay Dutt          True\n",
            "                    ...  \n",
            "Diganth             False\n",
            "Parveen Kaur        False\n",
            "Seema Azmi          False\n",
            "Akanksha Puri       False\n",
            "Edwin Fernandes     False\n",
            "Name: count, Length: 566, dtype: bool\n",
            "lead\n",
            "Akshay Kumar        48\n",
            "Amitabh Bachchan    45\n",
            "Ajay Devgn          38\n",
            "Salman Khan         31\n",
            "Sanjay Dutt         26\n",
            "Shah Rukh Khan      22\n",
            "Emraan Hashmi       21\n",
            "Name: count, dtype: int64\n"
          ]
        }
      ]
    },
    {
      "cell_type": "code",
      "source": [
        "# Plotting Graphs on Series object"
      ],
      "metadata": {
        "id": "xeAbJTh5DzWo"
      },
      "execution_count": 100,
      "outputs": []
    },
    {
      "cell_type": "code",
      "source": [
        "subs.plot() # where x = no.of days, y = no.of subscribers gained"
      ],
      "metadata": {
        "colab": {
          "base_uri": "https://localhost:8080/",
          "height": 447
        },
        "id": "iYsJBoVoDzUL",
        "outputId": "93f41255-7e92-4cab-a57b-c5079f89f864"
      },
      "execution_count": 101,
      "outputs": [
        {
          "output_type": "execute_result",
          "data": {
            "text/plain": [
              "<Axes: >"
            ]
          },
          "metadata": {},
          "execution_count": 101
        },
        {
          "output_type": "display_data",
          "data": {
            "text/plain": [
              "<Figure size 640x480 with 1 Axes>"
            ],
            "image/png": "[encoded data removed]"
          },
          "metadata": {}
        }
      ]
    },
    {
      "cell_type": "code",
      "source": [
        "movies.value_counts().head(20).plot(kind='bar', x='Actors', y='No.of Movies')"
      ],
      "metadata": {
        "colab": {
          "base_uri": "https://localhost:8080/",
          "height": 586
        },
        "id": "lrEONmSTDzRP",
        "outputId": "452829a2-5119-4292-b912-4c81a8da9fcd"
      },
      "execution_count": 102,
      "outputs": [
        {
          "output_type": "execute_result",
          "data": {
            "text/plain": [
              "<Axes: xlabel='lead'>"
            ]
          },
          "metadata": {},
          "execution_count": 102
        },
        {
          "output_type": "display_data",
          "data": {
            "text/plain": [
              "<Figure size 640x480 with 1 Axes>"
            ],
            "image/png": "[encoded data removed]"
          },
          "metadata": {}
        }
      ]
    },
    {
      "cell_type": "code",
      "source": [
        "vk.describe()"
      ],
      "metadata": {
        "colab": {
          "base_uri": "https://localhost:8080/"
        },
        "id": "Sd2C8cURAr5n",
        "outputId": "e295ba58-259b-4b01-c256-0c20f8c6ab35"
      },
      "execution_count": 103,
      "outputs": [
        {
          "output_type": "execute_result",
          "data": {
            "text/plain": [
              "count    215.000000\n",
              "mean      30.855814\n",
              "std       26.229801\n",
              "min        0.000000\n",
              "25%        9.000000\n",
              "50%       24.000000\n",
              "75%       48.000000\n",
              "max      113.000000\n",
              "Name: runs, dtype: float64"
            ]
          },
          "metadata": {},
          "execution_count": 103
        }
      ]
    },
    {
      "cell_type": "code",
      "source": [
        "# Some important Series Methods\n",
        "# astype, between, clip, drop_duplicates, isnull\n",
        "# dropna, fillna, isin, apply, copy."
      ],
      "metadata": {
        "id": "N3KuBTzhpZEG"
      },
      "execution_count": 103,
      "outputs": []
    },
    {
      "cell_type": "code",
      "source": [
        "# astype\n",
        "# Changes the datatype\n",
        "vk\n",
        "import sys\n",
        "print(sys.getsizeof(vk))\n"
      ],
      "metadata": {
        "colab": {
          "base_uri": "https://localhost:8080/"
        },
        "id": "TNgBdS6XpZB5",
        "outputId": "ebe96d33-eaa1-410b-cc12-fd47f1a6181c"
      },
      "execution_count": 124,
      "outputs": [
        {
          "output_type": "stream",
          "name": "stdout",
          "text": [
            "11752\n"
          ]
        }
      ]
    },
    {
      "cell_type": "code",
      "source": [
        "print(sys.getsizeof(vk.astype('int32')))\n",
        "print(sys.getsizeof(vk.astype('int16')))\n",
        "# Since we know virat kohli's dataset has 113 as the maximum value,\n",
        "# we can change the datatype of series to 'int8'\n",
        "# which would save us some memory space.\n",
        "print(sys.getsizeof(vk.astype('int8')))\n"
      ],
      "metadata": {
        "colab": {
          "base_uri": "https://localhost:8080/"
        },
        "id": "y1QGlRMXpY_H",
        "outputId": "6c84136a-a502-4633-c5f3-5c0f1e6e31ef"
      },
      "execution_count": 129,
      "outputs": [
        {
          "output_type": "stream",
          "name": "stdout",
          "text": [
            "10892\n",
            "10462\n",
            "10247\n"
          ]
        }
      ]
    },
    {
      "cell_type": "code",
      "source": [
        "# between: lower-limit and higher-limit -> both are included\n",
        "vk.between(51,99)"
      ],
      "metadata": {
        "colab": {
          "base_uri": "https://localhost:8080/"
        },
        "id": "D1iiqxh4pY8R",
        "outputId": "43204374-96ca-42a0-ca6b-09d5eea054bc"
      },
      "execution_count": 130,
      "outputs": [
        {
          "output_type": "execute_result",
          "data": {
            "text/plain": [
              "match_no\n",
              "1      False\n",
              "2      False\n",
              "3      False\n",
              "4      False\n",
              "5      False\n",
              "       ...  \n",
              "211    False\n",
              "212    False\n",
              "213     True\n",
              "214    False\n",
              "215    False\n",
              "Name: runs, Length: 215, dtype: bool"
            ]
          },
          "metadata": {},
          "execution_count": 130
        }
      ]
    },
    {
      "cell_type": "code",
      "source": [
        "vk[vk.between(51,99)]"
      ],
      "metadata": {
        "colab": {
          "base_uri": "https://localhost:8080/"
        },
        "id": "BzOYJAVxpY5e",
        "outputId": "288d9a5a-aa0e-414b-a19e-7838f368d446"
      },
      "execution_count": 131,
      "outputs": [
        {
          "output_type": "execute_result",
          "data": {
            "text/plain": [
              "match_no\n",
              "34     58\n",
              "41     71\n",
              "44     56\n",
              "45     67\n",
              "52     70\n",
              "57     57\n",
              "68     73\n",
              "71     51\n",
              "73     58\n",
              "74     65\n",
              "80     57\n",
              "81     93\n",
              "82     99\n",
              "85     56\n",
              "97     67\n",
              "99     73\n",
              "103    51\n",
              "104    62\n",
              "110    82\n",
              "116    75\n",
              "117    79\n",
              "119    80\n",
              "122    52\n",
              "127    75\n",
              "129    54\n",
              "131    54\n",
              "132    62\n",
              "134    64\n",
              "137    55\n",
              "141    58\n",
              "144    57\n",
              "145    92\n",
              "148    68\n",
              "152    70\n",
              "160    84\n",
              "162    67\n",
              "175    72\n",
              "178    90\n",
              "188    72\n",
              "197    51\n",
              "198    53\n",
              "209    58\n",
              "213    73\n",
              "Name: runs, dtype: int64"
            ]
          },
          "metadata": {},
          "execution_count": 131
        }
      ]
    },
    {
      "cell_type": "code",
      "source": [
        "print(vk[vk.between(51,99)].size)\n",
        "print(vk[vk.between(51,99)].count())"
      ],
      "metadata": {
        "colab": {
          "base_uri": "https://localhost:8080/"
        },
        "id": "u6kadx3ypY23",
        "outputId": "12af5c8a-b4c3-4861-dac8-34b0bea59e09"
      },
      "execution_count": 133,
      "outputs": [
        {
          "output_type": "stream",
          "name": "stdout",
          "text": [
            "43\n",
            "43\n"
          ]
        }
      ]
    },
    {
      "cell_type": "code",
      "source": [
        "# clip (a_min, a_max)\n",
        "# values that are < a_min, are now a_min\n",
        "# values that are > a_max, are now a_max\n",
        "# the values between a_min and a_max are not affected\n",
        "subs.clip(100,200)"
      ],
      "metadata": {
        "colab": {
          "base_uri": "https://localhost:8080/"
        },
        "id": "PbscNAJqpY0e",
        "outputId": "63ee0230-8ee9-463a-8fcd-e382992216a9"
      },
      "execution_count": 134,
      "outputs": [
        {
          "output_type": "execute_result",
          "data": {
            "text/plain": [
              "0      100\n",
              "1      100\n",
              "2      100\n",
              "3      100\n",
              "4      100\n",
              "      ... \n",
              "360    200\n",
              "361    200\n",
              "362    155\n",
              "363    144\n",
              "364    172\n",
              "Name: Subscribers gained, Length: 365, dtype: int64"
            ]
          },
          "metadata": {},
          "execution_count": 134
        }
      ]
    },
    {
      "cell_type": "code",
      "source": [
        "# drop_duplicates\n",
        "temp = pd.Series([1,1,2,2,3,3,4,4])\n",
        "temp"
      ],
      "metadata": {
        "colab": {
          "base_uri": "https://localhost:8080/"
        },
        "id": "glaevWU6pYyG",
        "outputId": "09c63002-a2d3-4298-8772-4f69f7744989"
      },
      "execution_count": 135,
      "outputs": [
        {
          "output_type": "execute_result",
          "data": {
            "text/plain": [
              "0    1\n",
              "1    1\n",
              "2    2\n",
              "3    2\n",
              "4    3\n",
              "5    3\n",
              "6    4\n",
              "7    4\n",
              "dtype: int64"
            ]
          },
          "metadata": {},
          "execution_count": 135
        }
      ]
    },
    {
      "cell_type": "code",
      "source": [
        "temp.drop_duplicates()"
      ],
      "metadata": {
        "colab": {
          "base_uri": "https://localhost:8080/"
        },
        "id": "O661ZEtTpYnX",
        "outputId": "aa51d83c-24b3-499e-e62b-93e482e8c1dc"
      },
      "execution_count": 136,
      "outputs": [
        {
          "output_type": "execute_result",
          "data": {
            "text/plain": [
              "0    1\n",
              "2    2\n",
              "4    3\n",
              "6    4\n",
              "dtype: int64"
            ]
          },
          "metadata": {},
          "execution_count": 136
        }
      ]
    },
    {
      "cell_type": "code",
      "source": [
        "# we can keep the last occurance using keep argument and last value.\n",
        "# by default, keep = 'first'\n",
        "temp.drop_duplicates(keep='last')"
      ],
      "metadata": {
        "colab": {
          "base_uri": "https://localhost:8080/"
        },
        "id": "-GH0lfeD2nwR",
        "outputId": "3b981fc2-42ec-48e5-8ca0-3b182f0f8728"
      },
      "execution_count": 137,
      "outputs": [
        {
          "output_type": "execute_result",
          "data": {
            "text/plain": [
              "1    1\n",
              "3    2\n",
              "5    3\n",
              "7    4\n",
              "dtype: int64"
            ]
          },
          "metadata": {},
          "execution_count": 137
        }
      ]
    },
    {
      "cell_type": "code",
      "source": [
        "# Another example\n",
        "movies\n",
        "print(movies.size)"
      ],
      "metadata": {
        "colab": {
          "base_uri": "https://localhost:8080/"
        },
        "id": "9DuhqP1q2nuu",
        "outputId": "eb579115-b9e7-43ac-eed0-b61743792b98"
      },
      "execution_count": 140,
      "outputs": [
        {
          "output_type": "stream",
          "name": "stdout",
          "text": [
            "1500\n"
          ]
        }
      ]
    },
    {
      "cell_type": "code",
      "source": [
        "print(movies.drop_duplicates().size)"
      ],
      "metadata": {
        "colab": {
          "base_uri": "https://localhost:8080/"
        },
        "id": "4eveM5Ck2nr0",
        "outputId": "b6689688-8d0b-4c64-abd9-a8d6c64805c2"
      },
      "execution_count": 142,
      "outputs": [
        {
          "output_type": "stream",
          "name": "stdout",
          "text": [
            "566\n"
          ]
        }
      ]
    },
    {
      "cell_type": "code",
      "source": [
        "# duplicated(): returns boolean series\n",
        "# represents series with indexes that if repeated are True\n",
        "# and if not repeated are False\n",
        "temp"
      ],
      "metadata": {
        "colab": {
          "base_uri": "https://localhost:8080/"
        },
        "id": "zGnURVFC2npd",
        "outputId": "45c48654-8dc4-4eaa-c9c7-5d89222cb914"
      },
      "execution_count": 143,
      "outputs": [
        {
          "output_type": "execute_result",
          "data": {
            "text/plain": [
              "0    1\n",
              "1    1\n",
              "2    2\n",
              "3    2\n",
              "4    3\n",
              "5    3\n",
              "6    4\n",
              "7    4\n",
              "dtype: int64"
            ]
          },
          "metadata": {},
          "execution_count": 143
        }
      ]
    },
    {
      "cell_type": "code",
      "source": [
        "temp.duplicated()"
      ],
      "metadata": {
        "colab": {
          "base_uri": "https://localhost:8080/"
        },
        "id": "DM_N_yWE2nnX",
        "outputId": "5155ff15-6086-4894-9ea1-95448570e458"
      },
      "execution_count": 144,
      "outputs": [
        {
          "output_type": "execute_result",
          "data": {
            "text/plain": [
              "0    False\n",
              "1     True\n",
              "2    False\n",
              "3     True\n",
              "4    False\n",
              "5     True\n",
              "6    False\n",
              "7     True\n",
              "dtype: bool"
            ]
          },
          "metadata": {},
          "execution_count": 144
        }
      ]
    },
    {
      "cell_type": "code",
      "source": [
        "# Trick: To count how many duplicated values are in a series\n",
        "print(temp.duplicated().value_counts()) # counts both unique and duplicated values.\n",
        "# or\n",
        "print(temp.duplicated().sum()) # returns the total duplicated values only."
      ],
      "metadata": {
        "colab": {
          "base_uri": "https://localhost:8080/"
        },
        "id": "jNKBEb5n2nlG",
        "outputId": "52811edb-e490-48df-b88c-d9382a8473ab"
      },
      "execution_count": 146,
      "outputs": [
        {
          "output_type": "stream",
          "name": "stdout",
          "text": [
            "False    4\n",
            "True     4\n",
            "Name: count, dtype: int64\n",
            "4\n"
          ]
        }
      ]
    },
    {
      "cell_type": "code",
      "source": [
        "# isnull\n",
        "temp2 = pd.Series([1,2,3,np.nan,5,6,np.nan,8,np.nan,10])\n",
        "temp2"
      ],
      "metadata": {
        "colab": {
          "base_uri": "https://localhost:8080/"
        },
        "id": "l9qydr2i7roJ",
        "outputId": "2d397aa5-c6dc-441b-be99-1dcafee50efd"
      },
      "execution_count": 147,
      "outputs": [
        {
          "output_type": "execute_result",
          "data": {
            "text/plain": [
              "0     1.0\n",
              "1     2.0\n",
              "2     3.0\n",
              "3     NaN\n",
              "4     5.0\n",
              "5     6.0\n",
              "6     NaN\n",
              "7     8.0\n",
              "8     NaN\n",
              "9    10.0\n",
              "dtype: float64"
            ]
          },
          "metadata": {},
          "execution_count": 147
        }
      ]
    },
    {
      "cell_type": "code",
      "source": [
        "print(temp2.size) # includes the nan values\n",
        "print(temp2.count()) # excludes the nan values\n",
        "print(temp2.value_counts()) # ignores that nan values."
      ],
      "metadata": {
        "colab": {
          "base_uri": "https://localhost:8080/"
        },
        "id": "rbDHno8K8kAt",
        "outputId": "5a4c11d7-8bd6-42dc-bcd1-4574fb567be8"
      },
      "execution_count": 156,
      "outputs": [
        {
          "output_type": "stream",
          "name": "stdout",
          "text": [
            "10\n",
            "7\n",
            "1.0     1\n",
            "2.0     1\n",
            "3.0     1\n",
            "5.0     1\n",
            "6.0     1\n",
            "8.0     1\n",
            "10.0    1\n",
            "Name: count, dtype: int64\n"
          ]
        }
      ]
    },
    {
      "cell_type": "code",
      "source": [
        "# returns boolean series with values\n",
        "# if null(nan), shows value = True\n",
        "# and if not null (nan), shows value = False\n",
        "print(temp2.isnull())\n",
        "\n",
        "print(temp2.isnull().sum()) # returns the total nan values\n",
        "print(temp2.notnull().sum()) # returns the total not nan values\n",
        "\n",
        "# To get a clear overview of the dataset nan and not nan values\n",
        "print(temp2.isnull().value_counts())"
      ],
      "metadata": {
        "colab": {
          "base_uri": "https://localhost:8080/"
        },
        "id": "k3-hyfWi7rkx",
        "outputId": "d88b8602-5be2-4511-f1be-8c7f488fbfdb"
      },
      "execution_count": 161,
      "outputs": [
        {
          "output_type": "stream",
          "name": "stdout",
          "text": [
            "0    False\n",
            "1    False\n",
            "2    False\n",
            "3     True\n",
            "4    False\n",
            "5    False\n",
            "6     True\n",
            "7    False\n",
            "8     True\n",
            "9    False\n",
            "dtype: bool\n",
            "3\n",
            "7\n",
            "False    7\n",
            "True     3\n",
            "Name: count, dtype: int64\n"
          ]
        }
      ]
    },
    {
      "cell_type": "code",
      "source": [
        "# dropna\n",
        "# remove the missing(nan) values in one go.\n",
        "# not permanent until stored.\n",
        "# does not startover the index, keeps the original.\n",
        "# converts to float.\n",
        "temp2.dropna()"
      ],
      "metadata": {
        "colab": {
          "base_uri": "https://localhost:8080/"
        },
        "id": "mi9Ylqvf7rhn",
        "outputId": "6e54f122-64e5-4d94-8ed9-061ecec0cb4f"
      },
      "execution_count": 162,
      "outputs": [
        {
          "output_type": "execute_result",
          "data": {
            "text/plain": [
              "0     1.0\n",
              "1     2.0\n",
              "2     3.0\n",
              "4     5.0\n",
              "5     6.0\n",
              "7     8.0\n",
              "9    10.0\n",
              "dtype: float64"
            ]
          },
          "metadata": {},
          "execution_count": 162
        }
      ]
    },
    {
      "cell_type": "code",
      "source": [
        "# fillna\n",
        "# replace the missing values in onego\n",
        "temp2.fillna(10)"
      ],
      "metadata": {
        "colab": {
          "base_uri": "https://localhost:8080/"
        },
        "id": "emxGSHRs7rfI",
        "outputId": "c5be2105-6e89-49c4-9498-941c216c51f3"
      },
      "execution_count": 165,
      "outputs": [
        {
          "output_type": "execute_result",
          "data": {
            "text/plain": [
              "0     1.0\n",
              "1     2.0\n",
              "2     3.0\n",
              "3    10.0\n",
              "4     5.0\n",
              "5     6.0\n",
              "6    10.0\n",
              "7     8.0\n",
              "8    10.0\n",
              "9    10.0\n",
              "dtype: float64"
            ]
          },
          "metadata": {},
          "execution_count": 165
        }
      ]
    },
    {
      "cell_type": "code",
      "source": [
        "print(temp2)\n",
        "# You can also fill nan values using mathematical functions inside fillna()\n",
        "print(temp2.fillna(temp2.mean())) # fills with average of the series data.Here,35(excludes nan)/7(excludes nan count)=5."
      ],
      "metadata": {
        "colab": {
          "base_uri": "https://localhost:8080/"
        },
        "id": "6jx5qMCY7rcp",
        "outputId": "15ca5ace-346d-4ccf-c8b5-2a2547d34f74"
      },
      "execution_count": 167,
      "outputs": [
        {
          "output_type": "stream",
          "name": "stdout",
          "text": [
            "0     1.0\n",
            "1     2.0\n",
            "2     3.0\n",
            "3     NaN\n",
            "4     5.0\n",
            "5     6.0\n",
            "6     NaN\n",
            "7     8.0\n",
            "8     NaN\n",
            "9    10.0\n",
            "dtype: float64\n",
            "0     1.0\n",
            "1     2.0\n",
            "2     3.0\n",
            "3     5.0\n",
            "4     5.0\n",
            "5     6.0\n",
            "6     5.0\n",
            "7     8.0\n",
            "8     5.0\n",
            "9    10.0\n",
            "dtype: float64\n"
          ]
        }
      ]
    },
    {
      "cell_type": "code",
      "source": [
        "# isin\n",
        "# to perform comparison operation with series data.\n",
        "print(vk[(vk == 49) | (vk == 99)])\n",
        "# but, it gets complex if we want to check for more conditions.\n",
        "print(vk[vk.isin([49,99,69,79,0])])\n",
        "# now, if we want a good overview, use the value_counts().\n",
        "print(vk[vk.isin([49,99,69,79,0])].value_counts())"
      ],
      "metadata": {
        "colab": {
          "base_uri": "https://localhost:8080/"
        },
        "id": "9n2yO0OC7raX",
        "outputId": "fef1ef71-cf73-4ab5-8ca3-3466d1d58a60"
      },
      "execution_count": 174,
      "outputs": [
        {
          "output_type": "stream",
          "name": "stdout",
          "text": [
            "match_no\n",
            "82    99\n",
            "86    49\n",
            "Name: runs, dtype: int64\n",
            "match_no\n",
            "8       0\n",
            "82     99\n",
            "86     49\n",
            "87      0\n",
            "91      0\n",
            "93      0\n",
            "117    79\n",
            "130     0\n",
            "135     0\n",
            "206     0\n",
            "207     0\n",
            "211     0\n",
            "Name: runs, dtype: int64\n",
            "runs\n",
            "0     9\n",
            "99    1\n",
            "49    1\n",
            "79    1\n",
            "Name: count, dtype: int64\n"
          ]
        }
      ]
    },
    {
      "cell_type": "code",
      "source": [
        "# apply: Create custom functions\n",
        "movies"
      ],
      "metadata": {
        "colab": {
          "base_uri": "https://localhost:8080/"
        },
        "id": "WXAQGifS7rYI",
        "outputId": "c880a7b2-6597-48d8-8201-d2c9efcf45cc"
      },
      "execution_count": 175,
      "outputs": [
        {
          "output_type": "execute_result",
          "data": {
            "text/plain": [
              "movie\n",
              "Uri: The Surgical Strike                   Vicky Kaushal\n",
              "Battalion 609                                Vicky Ahuja\n",
              "The Accidental Prime Minister (film)         Anupam Kher\n",
              "Why Cheat India                            Emraan Hashmi\n",
              "Evening Shadows                         Mona Ambegaonkar\n",
              "                                              ...       \n",
              "Hum Tumhare Hain Sanam                    Shah Rukh Khan\n",
              "Aankhen (2002 film)                     Amitabh Bachchan\n",
              "Saathiya (film)                             Vivek Oberoi\n",
              "Company (film)                                Ajay Devgn\n",
              "Awara Paagal Deewana                        Akshay Kumar\n",
              "Name: lead, Length: 1500, dtype: object"
            ]
          },
          "metadata": {},
          "execution_count": 175
        }
      ]
    },
    {
      "cell_type": "code",
      "source": [
        "# We want actor's first name in uppercase only for each record.\n",
        "print(movies.apply(lambda full_name: full_name.split()).head(5))\n",
        "print(\"\\nApplied changes to name of actor\\n\")\n",
        "movies.apply(lambda full_name: full_name.split()[0].upper()).head(5)"
      ],
      "metadata": {
        "colab": {
          "base_uri": "https://localhost:8080/"
        },
        "id": "4WkgjSdb7rTO",
        "outputId": "bd2fe8d8-734a-4e84-c3d5-3235a3b3040c"
      },
      "execution_count": 190,
      "outputs": [
        {
          "output_type": "stream",
          "name": "stdout",
          "text": [
            "movie\n",
            "Uri: The Surgical Strike                   [Vicky, Kaushal]\n",
            "Battalion 609                                [Vicky, Ahuja]\n",
            "The Accidental Prime Minister (film)         [Anupam, Kher]\n",
            "Why Cheat India                            [Emraan, Hashmi]\n",
            "Evening Shadows                         [Mona, Ambegaonkar]\n",
            "Name: lead, dtype: object\n",
            "\n",
            "Applied changes to name of actor\n",
            "\n"
          ]
        },
        {
          "output_type": "execute_result",
          "data": {
            "text/plain": [
              "movie\n",
              "Uri: The Surgical Strike                 VICKY\n",
              "Battalion 609                            VICKY\n",
              "The Accidental Prime Minister (film)    ANUPAM\n",
              "Why Cheat India                         EMRAAN\n",
              "Evening Shadows                           MONA\n",
              "Name: lead, dtype: object"
            ]
          },
          "metadata": {},
          "execution_count": 190
        }
      ]
    },
    {
      "cell_type": "code",
      "source": [
        "# Another example\n",
        "subs.head(10)"
      ],
      "metadata": {
        "colab": {
          "base_uri": "https://localhost:8080/"
        },
        "id": "C-ootILR7rQ6",
        "outputId": "970afea7-8023-4617-a0e1-255bef126617"
      },
      "execution_count": 191,
      "outputs": [
        {
          "output_type": "execute_result",
          "data": {
            "text/plain": [
              "0    48\n",
              "1    57\n",
              "2    40\n",
              "3    43\n",
              "4    44\n",
              "5    46\n",
              "6    33\n",
              "7    40\n",
              "8    44\n",
              "9    74\n",
              "Name: Subscribers gained, dtype: int64"
            ]
          },
          "metadata": {},
          "execution_count": 191
        }
      ]
    },
    {
      "cell_type": "code",
      "source": [
        "subs.mean().round()"
      ],
      "metadata": {
        "colab": {
          "base_uri": "https://localhost:8080/"
        },
        "id": "1odC4adX7rOf",
        "outputId": "ec3029ef-209c-4c02-e759-777e1a379ae3"
      },
      "execution_count": 193,
      "outputs": [
        {
          "output_type": "execute_result",
          "data": {
            "text/plain": [
              "136.0"
            ]
          },
          "metadata": {},
          "execution_count": 193
        }
      ]
    },
    {
      "cell_type": "code",
      "source": [
        "# Task: we want to name good day and bad day according to rounded mean '>' or '<' for each day.\n",
        "subs.apply(lambda sub_count:\"Good Day\" if sub_count>subs.mean().round() else \"Bad Day\").value_counts()"
      ],
      "metadata": {
        "colab": {
          "base_uri": "https://localhost:8080/"
        },
        "id": "16Pcc1gQDAHJ",
        "outputId": "87413c38-543f-49af-e31a-9a73a31684df"
      },
      "execution_count": 196,
      "outputs": [
        {
          "output_type": "execute_result",
          "data": {
            "text/plain": [
              "Subscribers gained\n",
              "Bad Day     205\n",
              "Good Day    160\n",
              "Name: count, dtype: int64"
            ]
          },
          "metadata": {},
          "execution_count": 196
        }
      ]
    },
    {
      "cell_type": "code",
      "source": [
        "# copy()\n",
        "# returns a copy of the series.\n",
        "'''\n",
        "NOTE: when using head() or tail(), we get the view of the original dataset.\n",
        "So, If we store head() or tail() data into another series and apply operations\n",
        "on that series, it will affect our original dataset.\n",
        "So, inorder to avoid that, we use copy() method.\n",
        "'''"
      ],
      "metadata": {
        "id": "P27hi6BUDAE4"
      },
      "execution_count": null,
      "outputs": []
    },
    {
      "cell_type": "code",
      "source": [
        "experimental_dataset_vk = vk.head().copy()\n",
        "experimental_dataset_vk"
      ],
      "metadata": {
        "colab": {
          "base_uri": "https://localhost:8080/"
        },
        "id": "aseLYxMODACu",
        "outputId": "7049be2c-c86b-4f93-dc72-06b2348aed41"
      },
      "execution_count": 199,
      "outputs": [
        {
          "output_type": "execute_result",
          "data": {
            "text/plain": [
              "match_no\n",
              "1     1\n",
              "2    23\n",
              "3    13\n",
              "4    12\n",
              "5     1\n",
              "Name: runs, dtype: int64"
            ]
          },
          "metadata": {},
          "execution_count": 199
        }
      ]
    },
    {
      "cell_type": "code",
      "source": [
        "# now, if we want to edit the first record\n",
        "experimental_dataset_vk[1] = 100\n",
        "experimental_dataset_vk"
      ],
      "metadata": {
        "colab": {
          "base_uri": "https://localhost:8080/"
        },
        "id": "mrJLdhU_C_-5",
        "outputId": "501ba076-9630-43ce-ec6b-41700b654ba7"
      },
      "execution_count": 200,
      "outputs": [
        {
          "output_type": "execute_result",
          "data": {
            "text/plain": [
              "match_no\n",
              "1    100\n",
              "2     23\n",
              "3     13\n",
              "4     12\n",
              "5      1\n",
              "Name: runs, dtype: int64"
            ]
          },
          "metadata": {},
          "execution_count": 200
        }
      ]
    },
    {
      "cell_type": "code",
      "source": [
        "# but, you can rest assured that, our original dataset will not get affected.\n",
        "vk.head()"
      ],
      "metadata": {
        "colab": {
          "base_uri": "https://localhost:8080/"
        },
        "id": "OZ3n4YTTC_81",
        "outputId": "fb8a24b7-5347-4183-84e0-3d126fdaee78"
      },
      "execution_count": 202,
      "outputs": [
        {
          "output_type": "execute_result",
          "data": {
            "text/plain": [
              "match_no\n",
              "1     1\n",
              "2    23\n",
              "3    13\n",
              "4    12\n",
              "5     1\n",
              "Name: runs, dtype: int64"
            ]
          },
          "metadata": {},
          "execution_count": 202
        }
      ]
    },
    {
      "cell_type": "code",
      "source": [
        "#END OF SERIES"
      ],
      "metadata": {
        "id": "6dmr5UiOFoga"
      },
      "execution_count": 203,
      "outputs": []
    },
    {
      "cell_type": "markdown",
      "source": [
        "*PLEASE START HERE*\n",
        "\n",
        "**Introduction to Pandas: Class SERIES**\n",
        "![pandas_logo.webp](data:image/webp;base64,UklGRvJLAABXRUJQVlA4TOVLAAAv2QS3EOpR3LaNE+6/eNqVZ0RMQJQTPaHFK1rmK+qSrst1cl7/b9qf2Bb7T9v/RA333uccT1Mp/eW+/gP/DkfOd1eH1Wj091z/XJ7nyX3d1/e6bs31DL5Qrr4pyTDUSAciv9/ICsSMUoiFkxICoQhFhhs0gwwykd1E5BcyDJnGiSWLSCGymwTWSH6wmixx4CRDdxMhkkAhGZZ/gIHA7/QOQlioMwvRBCpU9moy1GlFHRVoxlswg0CVs92oYeEfkKHRSSmKo4CnCyYiZCCB/E4jCKvJoMAfWZfNQJA1XtguCQQchtUUWEFO58gyE8GcbjXBElyQQRFwWIJCCKFECBktEMRg9igFK8g9W50DIadLnESEAmsUOBmEqlAoKXHwQOFpfQK7iZTiJIgkBaIlsjrRggw8XYZaljVSJE4KrEnhacQKRCxSVXOHVZZIBlK7C1TAtQYpfkhgNeH0EgwKldPE061mN8LuauhACoRUKIrnDCxHkuxKkiTNTJ0Gz+5m5p9877lxtvwsE8lAHuu0aDAGDbM+eGHi2bYtSZIkSVr0I7pW35IIEcA936Lfw1NriZGBAO75XAoAALpKogaI6whw4EAiRv7EiYNwex4n4mgPDSlbSgftSTTF6NyjXO3hXpe5FSfh5HeOdtGQkyKLFnUn3msC6Eb/v+pSZpvc0N3e9/zWfbcDd3d311fW3d3d7X3n7Gngyv97Z8//JGvX8s032tlsW6AHItogJaeBLQGPXCNiNkQacId4GyCjBuY2QOo0QU4xd7aGkxJDSEorVPBrA403ZMio4dRABaTQA0MXWsCdObNdkFGEFkDENnDJtBe62FsAmhNvA8RU4A4hDWj2Dpk3QGYFEGrIkMu1te3Yo5WTSW3jfe/YzjnYNkpbbSrbVmk7Y3/TZbr55xo4t22besb3h74vttnaJdv0qWzfvHt2bNu2bTt5iHnSQ6Ft29Rm27b/Zieb6U+23Wy7OxmZ57Ntf99v23oTgL4XE7mZ1B0BwkQJLXVxhIkAh0EYGcQqQjoZmesU8hQr8xUjS0hUGggECG4x0njCWWuMxsblcA4zOIGZCcfTuNZ5tOvbodLDXv2zEH2zOtyF7urdFYt6EkYU0Ypi6ZAEjiKckfBFAhKGBAFBA8F3BF8QvE+w18AmA0sNzDfomboG5ZE0kvTNeATHLtwHSkYjnUmUTUI3CbuxJPzyIkjQSOgUwSGC9YRmGiiMOzZ3NN7Q38GHqY+SzKbcPXASCSpe5KMIPiG0dvq4cf2aft8iaxVh4D/WUSN+JLTlBKMb8QiOpY+QRxVR+xWsv2HtKxk5vr/m1ccCnx9rSVg9k/WaoMbAXGPs4GhfHk4jo0gA1vfjTnj4oqOvDqcp834+nnW/lhHrkvviSOuTpE0WHSR8shwJKuLmhPncyCjpRQKF5dlsQ98au5PwyDINIyiN8aGhWDSR8MeSHWH0uvvMWMfyJfF73NHNPjLIopelTFDm94VBhmpY0gQvRfu+cBiZeKOstBFL/L4u3iHhhuW9m4+LzSTsscQDxjgbfFsEWOokfkntyyKTv2JJwq3cNInKcB8WisUky/5C3xUOCaeLUMUK+nmdp4+gWus0OXt09Zckko2yvHA+Kw5hbJbwCqTH8in4f/8jPocRa8Evvuk6fwy5k2ofpaCNmOarImVInjEJT5hccTWvE24MghWs7xc/dl86gTgZEPz29/I/ax8VTslKhhbO7hHM/fYrt0J+4e04/dMGHvVRcQdiU++NC/A5/GOF+oXX8ybXPegewVcPe/XPQp8UGULJg4EligY483/9XVrCPoefe66cwl06p7v5pFAstSFmvP9gWcj8qQ23ekfwuk8KEo4AxQr6uBY0W2Tlj94R1D/sow8THxRJPAoMyeIbMPpUxUJ8Dr+x7huR7YPCGabEsXiu+JoXn8PvkPk//i70z6DnfVBsBTToXsJZ0Llfv6X6l9IHxUeAsRc6DjPzwxdb/6Lq+564DbABM/nxlax/OiQN8jlxa7xYwczGSws79lzHSYDQvT4nHBaBLF6ucoQBGnx0h5LA8j4njgQcBuq9dg4SIDjgc+I5QNOhVQzIPX4AEkjmc+JsQMPeJRyoxegGWgK6ga8JxdI8oEz5CBNUu22eIIPLfU1cDojzOfyHqVA7TpNBVl8TJwJ4+usHHTL/x6+qUFbThQyMuMvXBImIiOqtMyTEq7kTap5Yhrv5miCBheDJ9y9koXk/fpWVmyYoLEcDL/qaIEtsSO6E2udZH744oVvwi6/bje2g7mJJElrha2IjhLPHVH323b4En8MfIdw848MHq8ngCuYulmZBXxMkMDHM+ZLr7r8ZcfyEmfryTpv+/oM58e6FNGDvGh4vkNF4zTJt7GuCBAZKzgY+8DWxnZEg+NrXxA1GoqqvCRJ2jEQmXxMnGYnsviaijUSEr4l1RiLga0IRao2E/rV8IHxM/G8ohviYoDBEG4rhPia2NxRxWrE+JhIHFevHGwnCJ8bHRDhZnBuJkPNC+5pQRBgjMdzXxCVGoqevia1G4u/924e5r4k2JgQIGvIRfFmgcR4DmwhW5yV4hdDCJISmGzTFSE8ecMFFJN1POAebGqNHTriVYPZ+BpYS2pZy5eyADfE1EdKXzcg2NUncOrBmm1fkNDD6pJDekMwhfbkQJD38K22z+JGxv/dovH1GbmDQG0aEIyCK8TXB75DkRirOEwFNDV8h8VeqeUwQlHBfIoh4HaGZpeAIoM/R3gSLAlDU8j1ytIF3NZTFfY3UP6GUBrOUb5EG11fVgGby7eAfUj/LkCFlo4EIPykvwR8aVIIffC4Uuu6DNYuRNC9vs4zlCWqPqhfQ7sOO6tqHxIcZ5yJYvl9pg0o6G5SXLvlEvQtZr7YxuiY9oW81tCTqTBr9n7cFv/HXu+WnvMOaPobjuI/p8Gkf7naPfD0wv/Fft4U+Bnp3q/RggQhtzUBkeQPv3Z6+NImH98g6xah9L80QzchP+qf9YXXPqBPQAK/k3Tyh63dy6AyHVva6JNdlaqkMUXlBjZ7K/1R+uqUCqHxxmWdU7lEpd5kzrmKTa4/7b3y+m/gA6N3GoJfLa26DkQSfpTxmZ0KLcxj0TFNjmJTq8HQh9Ld3Jk+ePPk7T8p5edx058tK3zLXVqU02Md5Q002NQPUfHPMpvIvlX6XOUcnv45xB6nyXdc6Y1BL+NJe+KnMOmypfG5L54xNrOYNITEhD0Gg5dxI1V643v5l5bCn8o6KbOx1kNS72nN01NJO8LkX425ZZgHHoWJ0SWm8fdDVutqzp9YST+JTL0LnCLWE41CZc8mNsR4PgjpXlqTHMmmpJ/jYi9BivUUcZx1XRTzGHaQi906Cj7Tk1/GCVoSWcRwq98fdh6cKF/K0UJ2CWvYJTnrhkrMWcrZ2Fbv9ytuoX+3FKbX87+KFyxRbyXGoVI/z89NCcTPGDu6obeDEXlCpt5Yz99gfsFfaDq+n7SChKi+utZhDRT3uNmkKW6qgtoVnekHludUcav5xbc+lylqqoLaHg7yg8tVyDhXNOOtziaJGeqNqaZuYx9ObHA5PG+f901ZJW4/gN20XSWz3VJMH59oxv/7RVEFr0Efbxmaexj2ynAuHmmvqmb+Zto8zegqdcwUfjqvYrpxdqG1kXk+hlZ2cUDGMswEpZnFayantxASeaHGCE4ea0dFvN4RaNpe2k7d6olLIi0OLo0pZTm0rz/dETQM3VL5XVMhq7GgvLvT0AW4cl/ylkF2o7SXJifNERcuPc6kyVpbENzaDYKiHCtk4ojLiV8X20DZzNN6Qh3gv35wcnulklSLmL2A3/t6//WuRh0Rcze1Xw6ppm5kaPYbOuYYrJ3SGo4Y9aDfKe6KVQ3xR6VDCUtSzGwQbPVEp4ivWtU0XFWywtps9PFFp58txSZ4KtpPtaORpT86ofBzz6x9N1a9Fa9mOxTxUoGLkzHmz+pVL286zPdAVisO7S+6oXwRv24586JFOfudu69C/WKR6+cvYjmaeXMUe7pxXq15knGXadub3ROUSf1SqVK8S9qOVJ5cM8rdkBcWL4DXbEZbFwzzr8Oe4jgQpXnVsR3v0OM7+dHUAfKbalYXgnO04wBOtJEJApUvtml/bzlHbpntqDME6HZSuPWxHHfRMzUMInNBj+CpdSWzH9Z5c77/jY0H4KqWLoNxuBK/zFFrZ4IBIzS2la2m7MRd6nhQGasZUrpig3djOUxFqdDBQ818FhWtNbTNH+D2FHgQ6QIbuuClcccfm2o2R6NklBVDQmnEKV2ebQeKw31MFKjNQ0IpE4brVXgRD6HL0TIt1DpQuuaJwLW8vJkAvqekD4yiF6xhbQfDZcC9cOwwHTJe8VLhG2InspG8GejkdHO2KqFsEZ2xEgAw3oZf0GH6xcDgtlK3woI0g8TB66afS6wDq2qaLsjXK8sJp+2ikYvTWVWxxIB33mCHKVsh1UWxDRAn09pVU3oPyLcpWYbvQtRp6Ow81cgfU7ZWtVjbhLb3RayopDqy0sk/ZuskW9M+K3rtqbnOAnUXZMijPBvQ34o4a6P0t7aD5uLJ1p+zVahZ37BXhmIChNfntHGjnU7bqSh3Br1cN7I0J6p8l1gH3ZmVrA1mLKv/1TaeIwQT/U8c5AKtbJwgmGFm+yu1GetXA/NL5GxrDpIFGDr/N4WSc1SE5MVlnznl49zaX1xw4uNFFB5wwR6ddW+b9+pkK3phyRH9Cpwi+z1SPIEigQOqVRrQ3sCZJUyNdR/pmPGx5maG5dCbGJVMOxI2VrYNE0TUPwaID2iQ32kUshFYvVD9D5Q57Fy1atOh1vXrHacUO8SPbsddBcplKB2aXKVa25oAv0D9v3SlSoABXo5I/jQM0NSXKFknPAbd0y8Nroxjj7dPjh7Z2wKbmgrK1BGT9D4qLrijIc1e41oGcmnRlqzRY2dNnRkF+hBYHqXS0c2B/so8BgnpCTzVAEY5+uyGqr/BJKm8c+F0VsbJ1EEj1Su+N0P/G734wa+2aRLsqhyelonqUI8ZJlK3rISoYd3zR0PwOLbZJFDqJoDOrQ2vyac3kU12V/d/uqoi3+PZ9Tl0ktLI1tCY/tIh/87Z0zlg6J/esS+mRYHpM/6Hztt4mdP1ODn2BuGWLsf74Df0pP2L+G5/vJkXM6fDI1wMTM+9edLJq+1kGNXeJYrlYR6RPVbY2gCc7SQV+NPPv//3PXxKtntQlNRcvt5Fj1WxUfixJ5cNay1F5fRqVB9SMzf3il7vkEZUnbz2v3yXtHGG/Xtm6AJyVjV53TPB4b+44V2XjzXNv5Eh8RmXrQmjObIAJOta7afNV127kSH68fdCVrbhpIjD318cEzNh8Gkf+V1O2boIl5XD0fpwDJpUuxw62m0fZWgyUpSuj17NRczXWsYWvRWXb6JsJSa0r0GvXJGw5xya+Q926GxIyPI5en9rOsYsuU6tu9QJk43Bv/FQyHPs4n7pVliAAI3gFeuuSTMdGfpW6hQT1YORFbz/h2MnQSZTCVR6KqDW9cc0Zmc1W0O3hrHDdCMXV6OVq1OgcO7nRb3y+myhcV0GxmDfTObZyT1S4SZoHhBFh9PIWx15S06ByGcMDQDTyIvFbbYbLpKpcI2GI6u1FaLHLsZmrqlzzw1AQPY9xB/k0u5FO5TIuFx6Gzl64KjzHZnbpoHL5m4BQ1AsqSrvxJah0p4SgP3r+iGM351O78kLQ0guX/Gk7Xq12FYOgpif/lbbju9WuuHEVBHFayZ7GOeLt2M1+frUrNQAd0bOrOGk73oRqt/8o/gi2enGt7ThV8UKDdvJHUOrpN/56t6QyaztmV70Iyvj7mKezHLv53CKq10383e3JVTluO5qj6k36pz13xQt5ms52fJ3yhTvythV6fq3diH2d+jUZb1/vaTXHblL5G9Xvm3g72tOltoOKTAFLEcFZTU+0ENiOL1PAsCBnpBvgiZocu7GDXwUjqYCzyp5cptVuuCQLVfDatbgq5fdE5andCN2fXkoYzsTVCPT8KJsxN6rhM3M1oyfX27+sHJtJa4oUsUIr8WTELE/x9ulhM5Z8viKGJ/B0oafH2IyXoCpeuThH3TyFVrbaCyqzMcoYpudoIk+r2Asql1EdTx3FTSCLp4/bir9cUSHDxbnpip4b24qXoEqeNowXEpVeNLcTz51NKUNCc3i52ouqdmJ7VMtTlOHkaC/q2Yj3+RUzrMnJHl783/bhku9G5ZxgIx+f48Wz7cPqqJ736shFCIvgxWttw6SoopM0MshBdr8Xz7ULF4/59Y+mShrm5+AU9HJBm/D0V6Ka7s9rvRm92doeUHn73aiql21muRzetLMFVKZbo7pep5nVSCrwJtYOXPndqLKXvdpiRmR7UcSxgRd/CNV2//VBSz180dGLDjbgSW9A5f2wKS10FHo51r9/Q0kflU+0koAq/N7pA5bp7E1a2TvudajIX9HZKpPbBipPH0CF/qSdApa4wJs3yNwO21dAtX7Utuk5VrLAprbgA8tWQPU+3Bg7uNPEQUaPGMdJFNToqKj6/nWXSd1nkdXf/JjNH6Bzxm7rmnPtstvvM8vHb3571cAOj+Iv8c3jHtMHlf07Wp1vYOmGmUzL5PfmU37EHCgqs1RG/oUVf/oPIsPnx1tD/YzXL/LMa6g0zb1WLA9vnc81B7sDKv+114vL4RiUR1JRsYM67dqy5WT77bdrp4MqvaxRzZwnpUHg9vyCzcf5+WmB1h3jDvKFn3Hkqc86mBo5lSdLWmOawF9fPQZ9Jb4JnB+Yrzry+oYX3rf56sssdDCVNirwnv3+cgJ1+Yq5qTRTKfz2W8bZgCqgL0VoXr5iWgQy15YVL5s30dRTfwY9ht9988ZbQ21RAX0y5gLl6csWQV+ikHRxFSffgL5FAXlxvH3Q0dcoIEsusJqviRq9QtryuMIYOzg56ZsxGm+ogV94jjMNlfLNO/iKuMPA6IPmWpngHMGfHovnEJ/jOM89eNktfT+cfVGeCJ2ABH+cLQOO41ABp33y219QcR6fDdHdZorSJt4qCe633pNK/9tvmGWFZf/c0uGvXczPl96XkJCQcP/xP52zpYPLNtnlssm8ekPHf3YFMefdtIcLu75PXdjNvbLmgY7Ybr7WlZqWMmXK9G1+8F//c7Os8AQfAIseYKRqbW5kT5ng8/9W/m7rlFubPpiLcX5+WsjEaxW/AZOHaYbHc5FWJroofesRrAxqtqO2Teehg0w4udS95M0IAs16Dh78UhGj6IXn7KwtOIwH3EgmPqLkZWnUX1sz5LooPGwtE/QYfgpe6k4EZ7RV43KSeVhQJh6v2mVpUzCgrXs1D0vKRDulLuRpodKd0URbekcefkAmblHneqWaIZO2ejALB0/ztVGn8J3phwU0j6Pl7cbBPyQTFZS2IXFaycbYwW0OILFgrpWjNLdGN4IDKiMy8YCa5i96+G55qxDUBjT3JCeOA5f0yMTmCtov1b29qobyCA5c0igT486Eq2bXHfDjGtKaHLxdJn5aLat2e1DDei8HPyeOTri/TKIdVB4VGtqzn0vWaMrQXlzfw2QblSxdew3uFRx8gSjc/+2RUeRjNdRrDR0JumksQHlx+g6DD6ljC8+lAW7AgasiFkRPIqR+LplmyAt5PB5JHtaN4x8q9ttUscotCc5pgNdGDmmxQwhe3F+nMQAa+rcZapUH+QiycG7s/zH9UA0vS+Lh3BrkvDy4JisFcM9nGuqlKaxyw8dQgdUwkkaWJ/gT6JE8/DR8Xrye/NxwTWQXAq8hfVWw60jaoKFuUp+HsT9gD982GvovZBDJNMgg9auskYoJGjTYJBYgj0WmAc9WuZdBxlENkH2Vr3QFNNzBDblAKk/hm8cuATKHFQxkasWr9oEBDfjyyOfj4ZtCF0BUbniQ2ZSu6BKRGnKC34x2ETlZCL7hpBIgGvrbesB5qHKP2ja9iobdGB5ATleErydhMojZnSAlwCU1ClfZ/MU17AQHwnmpDp8Hp58HIUNIIQImUbeMvpkjNPDlfgl5/Y3Pd5OtwbNV7sWQWMC8qtav++y/FjmiNPCBe5Hfi+GbxxYeMo9tvNhaRRStewg+1+Dvhhy7TBp8sRCVe5kYleuoZMdpxaYPaPAf9PP0AvhWQQ724Pwl9HolK+tKGv6MdZDn3701eD0IUUDM3sQKRb5/zK9/NFWw9j5DC3DHBsj348F7QkP/hIwkGyvy11G97kZQowVIoq4och5a2QqerXInhExjCETGPbJcuRo+uRZh6sWQ99keBd4cNnCQWwSoqFC1/iDBV1qEUVmRfyo3wRtLBQqwEPV0DArKg8unQGgRr1jV6RHUQiSpCAEMPQgEz95xGmOgod2FTuVROYoizO224Gmj324ItSpuq/cwLcbJEUSXKMCz7Tt/8XPNDUlDPR9NCdqN468tvCyq1OFGKiZxVosxYwwMTxCAbdt9iOPOZQP3oGmaGtrtOKrgdFucClxEpbqOxD6CPwW5Ui8EkkqvEGy7M763YxDoaQzDSHKwV9lAKiD0IBAV6rhxfTktSILAiGyEMnTHjYpRDPB/DdXpngQvaWEmQTj/nMiovPmD6tRmJD7UwiR0qj4g3za3uNq5jgShMj2QxO9anIcjpJddIqxPoCrdc3ktUCPCflDwrmyCGoGqdMh1UQhOaJFugsDuKyYqHYlVqU2TaZHu/2tefSyABieJFdBtuVCRjjvOnigt1EoI74vaCceF7UEuVKP9nbRgJwII39NPMBtXohrtN2KJFizBFwjyWI8H4VtFsv8em8MV6fO1aA+ECYvss44wDu3gsokPX2x6MuHMCRQifcniT8aKYYfWbzbW4YtP7yacw8BCpMfwo9ItgPXfhi9O3Ug4cccXDTBE1xGWy9Rmg82F3fNOe4cvVn2TcBYFDfHmpMvBddlZ/4YvZp1cOD2BQ5xn84N/G0iPXbxn+GLXqW0HIo5xB3nov3AaML+7sNu++srwxbCHC6e2COJ/4eq7nBYLxJMrYv4NX0yboEE0d4si/tlCZzjUnO67Zza+Pndhx/n6jaPCF9/OIJp7ROJ2nJ+fFuMe0ye0Jn+Bthc/l4f3/jjj6o5/zLbhi3cTHBBNCeF4/LQ337FrbL6iqzg5Yd9rqTw5OZZdPyojVKqfjdm2+ZudVfhi4OuKJomovE285UeKbb7qIqu8KKlLcv81l9z4ZHNqGqi5u/766x/X/OBr/oWkror41NUfGDr2OkhvQHWcYJFobhSfSj+9aLKX9aERd2wuQb1gdHIfGljfQOGOYpnelwZi9MwEu0WyoW8NRHxV3jBhBH7J1wZirzkiBaEP8L2BmKXkMDEU8MWBGG1gdMGAADTJZoEWd3zRjMuF91WAiFMdWBy+loBN9ZZgXR8GiKR/2h/UEbrc9aEadGBQ6/d7E28f9Ju3fOTrgUnr9ymAmILgHHB6IFCviNRa6+whTwvlxSWO4zixXU5e7rRZqYxQ6f/o/m1/iErhQtPOssoKK4YW8Xe12yvRGvHWUMd6PAgtcs2j3uEI6PKAVGNX7f5zvOgXH+suJ1PRXvlhKqpSVddvPimVwhuSvvHbV1hx2SMfuDTRvONsQGOvg3Rurg5qWnrogka7iAA9bHmZvUt7zO/Fa63AmIrxkrWudFVOKWclodMbwFO2mfbczIu3chf/6crZ5eBtDM/k2kuCM35PVCZBmFY5q1EPOr03NHHTRO11nFaypw+AQItjyhlmBK81MEfn9u4mT9eC8FXq2QTgkagEhqRl2vuDPFEjB8FVSVLP9gAvSPqnPSjrEQQJMKOnR4PwlepZGvD0QFCu1glI8LEnl6kF4Uj1rGxx8L4ektphCVKrrAcqZSA8Rj3DjcE76tfygQDEQKFO4Ls9/BwI71HQJgdPG2MHA5Inwe718IsgJFLQ6sL3R+EYHpFg53v4AhBmV9CqwbcxHCfpBD/Dw8dB+G4FbZTlhYMvOOppW4HxGhMIKjzMBsJqChoSOgWevgmMnU04zoOrcgSET/kRcxWtGXwTgDHChGBZd98MQTtU0TvBR/ARFP7sJuii7v4ZCE5W0o6AT/cCooE28x53PwbBDkqa0TdTACQnDoj1TNnD3T8Fwc8oaSHnhQ7AVxEII7JN2c0dnTMWgi9R0nBt+IYB8TFTlnd3FgQfVdOOhS9gXC48DHea8n53U0Pgkho17Znw6cNhuMCUEe6GQvBDatoFApgAhvNNqeoudMcNgvnUNAOjBXAKDLuZEgh5Wig33w3Bk9W0NQUQqA3Craboc9zEe/nmBME+atqQIHz6JhCMmGYOyWa5eRCC0MpWNQ13F8BTQchhTk43uSDYVlEjqBDACBCeZ04jN6PfbggI3qOoLS6AgHG58BDsak5+N9gOgND96aWo/VEB6MQQPNOcp7q7BIBx1ucSRe1CEbSEwIgl5nzCHTU6AN6mqM0sAiNVQ7C8Oe939zT+ss2jqM0vAp0agJ3N2dDds/n7flTUjxbCnABcZc7a7qiM83elqhYjBELbACDYaE52d1SG+aMCq2pI8JMI6vXk7/3m6J5u3sefy3Qqa/1FoENyYvgjsc+ko918lL/mytqZQmjJ31Ymjdo23U1f/v66snaMEJYK5+44k0g3wM3b+aNyXln7eiHoD3JH0GBS3LG5blxyg79/UFmbXAwVeUuhTW7jZkL+tlfWkoihag3OFjarkRuX5PJ3pLJWWgx6E866mXW+m2fxN+5MuLI2vSBm5KyhWaXduMwZ/qora68RRMTZfBnpVbMqunkcfzWVNSMVC0IbVMLX8WYt7mYS/t6mrJ0virUL8fTrPvuvRYRZM7qhhYC7bEV8PejuPLXSZh/rZnXuTkZl/d3CMHCUJ4JS0zK6WZW7p6trf1QY+iSOCI6ZNsKNa7KSOyoqdc2IWeKows/d2vQ+bkJnONxRI1fXWopDb8qNEdPMW8rNXty5TK26ZsQqgewSzUmdquZld5OIOyrX1bWCAtFHcEJSkWYYHt+83FHJV9cIjokkX5xWLBc9p2TRM75xNiDuXCZVXcsnEk3oBS6O1ixHPW2r+MZeB4m7ZZS1kKeFCgolmJyDhcOYPHzRMb7VuHNV/lDW4o4vmhbrjlksN2QXzTTkuijxvY27r1TWFhOMJrHAcgdqtkPjewN3dylrnUWjc1qsmGb8qviKcOeag62sPUc4yYpaqq5mTboB8eE0vIUeBCprNwpHFxhuHf+7NfN73FD5wttvV9XCCX4Tj54p3Cp1rtbst3PTj7d4+6CraptpEVe0yMIjtAVndnMeb9+tqg0Ukj7BCmXzF9dWHOnmrbzVVNUqikmfz8y/yY7amiQnzs3LeRvr8SCoajsKSp/PJjrr8dqqJCa4CfD2SkXNaBdRC3sJv3kh54WOy0kepq070A0VJW9bKmpHiEu3rGFOTNbFCRq0lY1hkhsqXby9TlG7WmC6YIoE623k8Hcupy1+oZsyvHVT0wpFikwPu9sb/wCD8vYrQBBo61/kZjrenqGmfY4WO8GviRExPO1JF05AsJegXnNqDA+4oaaCN9c2XdQ0AzMEp/Ux7ftEaK6bupmUt+pq2o7C45/Ew24m5G3cY4YoaUO19G/g5m/xVkFJI/GE/B3g5s/xFlqTr6RtKH/nu6GSwpurOKCi/ZKWfyMVu5mFt9NVtAtswGvc0Moh3qiUqWjtbYBBJW5O5a2eglab4JwNKOZmEd76KWgDtQ08wM2LeHPepp49ZAeM9JCbV3O3l3JWo5wdaOjmW7ibRDkzxg7WdvAiN6/nbphy9kdtQaybF3C3nHKW0hY0cjPuTDh3Dt0ezorZ3/u3fy2KsgUl3YQeBPK3j2K2nbaFA93QY/jxd61i9kftwRPdzMtftheqZffbg4+5cW3ThT/njUpZdBN7kNXNMwB42ui3G0Ilm0jbQ6Mb4SbeyzcnAJyvVMkutwnV3HwIgn+oiEK2hE0g2Sw3b4PA+TqFjGCjTUjj5k+BsNYfVMf62IQBbjqA4DRWxrIEbUIvN5gNBCrgBarYetomhpwX2l0XEBwq2tcpYoltQiDa3ZIwOBeP+fWPpmrY9DYhNbqnRgeE84eLKGEEK21CPg+vhcKZ0K+C7WIT+nu4EgznF4uoX+EEf9gEgkMeng2H88kx7iCVr721TSSx2cPLAXGodLVQvbazC4t7oGYMEmfP0B03xaupXUji4QOgOI9aRO1Kbxfye/gSWBxn/w+pXFXsQiMPVPqhcX5gC4UrmV3YxMNR4DjOR8dZn0tULeNy4bVdfJWHjwLkrLOCX82qZhsGeXg0RI5DpbmFkkVSgV0Ii/YwHUzO06qrWM+xCwQV6PEpQDnrPKBg7WQT8mbxRKUcKofK7KrqVT5bENYZvaRyEyyHivH1qlVtbQfXNvpmorc/B5ez4G9XrD7HDvz3tdHrCQFzrnzk64FRqxrJX1hDP3r/L0Dm/JxaVVH6CD4mfTMwQV8CWuwXK1UZZS/9r/vsvxaYwH8ONOe9KlU0wW9y1/EmNDEpbE68fXooVHHHF01L/Yy90cwnA7eQQjVS5jKlQnNpcQI4Kk8UqiUkjqD8HDT5ccA5LdSpnaQtU1xOsh/NXgU615EgZSo6t6wRbDXaRUTzvwq6NytTo7ZN13JebrAfGdKaIuhWV6YGy9nttyHTNaF7tTJ1tYwR+vZwZLwIdE9Qpkiclq9A+lGWFw5Zbw/dd6tSd2vpXrkVsv864B47jyo1p2wRNJbOghaklUTgfhZV6fsl65A0aMktgPtmVap3lFSVahiO1nw1bNlep0rdqWW62TloVVozDrauqEqTqJSoMt3Rum+G7QWq1GZamgMtM6CFjwSNCuxXpUiaJ03lPwctTSerQDsLFekMuSUpYo4haO3XQ0alDVXpE7QcExxYGK3+AGBb/0lVanikFDWpG42WfwFgfwBV6RO0DOeJ00pGDp8AFxW4girVq5QENTFQGI08HgrWY7dBVdpIr2r5JbEvLfJ5KVg5UZXOHJSeqOnDkdPHQ0UlH1Xp8I217BLUVENuXUeCgPrZ0W83hDI1p5bdYxogv58B08/8QVSlQ1iE3LKzRDhynAikf2vsdZBQmZ5Jy23EEcj1T0O0ID2GHyrTBuVpuW1yEvJdHaBsdLIKlWnjcuGryk2my5Dz0P3pBdA+qE4/pKWWoOEylI4fQnW6u5baqO1QOqgMj/n1j6bq1KCOctMQpeOu16E6va6W2qv80rHRXqhOX66ltsyop22F0kElBdXpXpFyczlCWB0Wlyg6KFQEG7XUHu+XjgWfger0QC2326F0rILqtNEuYia5KeCXDiqq0W83hDrlL6jldk6UjdjPQHW6pJbbqMrS4TK1qE5fl1tyCqJsxK6hTvmP1ZJbVzp+FtVpY5ikZXeAdNA5Y9Wpc3LLTh+UjcQdlCl/QS27Z0jHX0dl+k4tvYOlwzVZqUwdXU5+RuMNyUas6+1fVsrUTFp6I/2ysSeq0pdr+W2GsrG+KtW7qgRdLx3/girVV0vwPdLxCUXqXi3BUcOlg1YS1ag4rViCWhmaGKXj31ejWmoZfg4g90FxlhKVjiCQolcAMhSK96hQIU8LRfCRluKzAUkExeNVqN20FPdHQD8DiqkVqInC5MiIJZBkhOI96pM/j5bjwyF5PBRnqU9P1HIcXBSS90DxGOXpjq6SdAhCeigUtyhPSbQkzwHKWVCsqjpNRdAoSySbBUroDAeKH1Od7teSnC8alM2h2F4gTXjPFDll+UOOudqIWRfdu/CQ8aIGNjH/3ePtjdSyfCCCSmdioKA1RQLRgEYNI2lZXdI3I3w8JmOYpM2fYzy9On2kiYyzGpa7oFhFytxG7kxy4oYn/GZQiZbl7PVhORKKPyBvWuvsMxiRHZ1wW69S0nQVwroqFE+WOq31sDvLJszWUktzYmCWhWIB2dO6j5HD9ye0Nmrb9Chpyj4cmNWh+Lj8aU2i0uh1T1itmZbmhxDYFaGgIrMDOuz86ITSDtPyfC80i0DxLFugNcHWUU/bKiE0//HylCwGmhWg+N9sgm4bcl2UhM9yanmeFKH9KiioZNgFvdLdCZuFnyJRl4GzChQL2QbdNU4rOSGzXFqe2/rBWQaKG+yDLr9oQmU1VpaoDRDcWaB4iY3Q7w9PmGywlueIyvC8EQqX5NoJXSkhskIrS1RfhPfjUNxgKyLWS3jsCC3RHwTodCgWshW6c3TCYoX6SxSJD/0A/S0o/py90AblJSx2uZZokgoQYCpFUDzLZhB8XiPhMP9WEhXZE6Kfg4KKzGboXAmHbaclegmEmJrbUCxgN3484TAS+yQq7OGLjiBRqYKCSord0EbfzITBSDZLS/TkCPJ041XslzDY10tUcABMj7YR7dGKhYanTT54gmFWyBee8Nc5tSRqBoSZSofN8rihEdPKMdPpEv7qpOU5OBFQ77NniKOettUEBAGrORL6qp9MonZGoL8ECipS6UI8MRMjggMJfZXU8hx1N1Rz2zdMQ1DPJmxIwl4/LlGTI9QftnF4TxQTfUVCXiSbpeU5+9FgXQnFAlKGBmawuTMhrzMkagkEm4oWiqRyNrwjkyQJd8VpxWaXp3x3wHUyFP+bnGElJgQbE+76y1qeAwh3FyhOl7TbolgUSLiL4JA8GREOh8sfC8UXSBpWYZEsoa6JtDQTBFMg3GN+/aOpA6VLcmVtehaBmIS5jJgmT0Z6FQH/U2BQyZe1kJwYFrpyQlzRx0lTxwaQrQaGy1yUtTitZCYDxper0WuqajPHHd1c8iISDxupuNIBDes2GjiyVebReEMN/PKVTktzLoR87HWQwHCZYlkLeVoogoBFGmulGJC5Vc5UBgobti6WP3+x1heVeGLcsblXFK3PlXG58CeY2ZpVCtI3Y7uacx6QP//5DQfflDzkuig1wMqS9opNajZqWix//gMuStXt8jitWPBCzgtddP5WOWte2LB1sfz5i21wUUmD8gyMvqxoJZB6XnFn6bdsTKKOINCmRhzXeMYkdbsNKCtP+0kTwVYE/U+C8SRZw2QsMlsixfyHN02yrhHhKcO0ubkJTjTrUdIYOzgFH5tpU3ubl2HmlQoupROwVvN1331iClhum9mgkqtTdtQJnK99jsS3ARRyXmjSN2Nkwx7rHnJccW1u6mFJd+1cbW84ipY4cFhQWzFiRN6mRmSPetpWMlSooyxlMtpFhK06GC65IW0ENSymYHR0t9bLV8mnLUkQrJz3Lw8AwsBokwYUqxKlzY4606CSu4FIW2KG4zTL8hOcWBaMXic1nLx9V21JgqDPziQVTcRfoU0n6KOtHSjQcuAA2WmlZflOhN11JAiMT0rbyiyMvpmmRU9UM8mbkmmrG6m6xwfDAdjNjJ4lGmvWje/Mwt1mBGUFtAWPOrBaNG/+AW1y5CE4o62+9n6bFuJp4ST5NJ99Jhu5t8xMIEvT+oF7Ahj9pW1pFpebMmjmW+/PrXndvXRR7uZKsEHzldNWrFppOE/1G02sLUvwVbHe/Cya7iCC8nKa13zPm4gTP0kjd9I8R+Wp+4hxnGTFv7skda2NwG8LBjV10laOxUQmvIzgM815sJkxdjBnkf4EGGV54VbKrq1a5gg/L71LH6UtXfwUTv7yMIJA8x04/SQeWjXW3AdSNpCTK7QcB05E6JcFg5oGWcsSYHGbCW/RAO40Gm8frnRRr8LnTKatfPo5XAz/o6U0nGxu0QASHHin1a67XYP4S3JykCT1QPC3B4NKs6xtpllmgUkH0jfgqY03hTfUFo80MJqDJxLUakjB0/rBXpYq0UTbmEPk6Mdj4JsEjPfKWi4WuREorZfahKPneapxQoS2fHBOq93WTMMqAH1UG+v0nEFDKSeVA1KUaQDC/wfA+FZZm4xFAbi0zlGIGxKVHjpk1Fzmt9azl9LSpbURS2IsMiiltjWptAwHcqIAFwDjHZLmX5vFXJDppPV5yV7DzYmRmtOmVjogqGVMv2lvS9zWVtubvFLUCUX4EjCowJJ2mWbZAzR9fApO9OXxNYzSvAZGWiZ8cg2vIPQpvS2w6DBtc3aXofsLCeGvg/EzknYGkxKw6Yw9OSmJGP5MzXHu0XhDFqkxg5Y2vUsKZjVu1DZnQy3BU1ZGIf4RMKg8lbMOYUwyA6fXjebjFox5SHO9cVlL+PNqidPH1mD1PG13SkpQvcwoRpfcAYOaV3J2oGZZvCx0uhgfp8RMqzkvZomVtNTp+Ri1CtgeEm/KT6ANCpJKFxhfIWXJA0wIKhC8Wpm5CBbUvGfvYIFUWvICrZgM6a9tT3P5+aMoSiojYDxXxob310ynh0+fUoMHCG9hN1U92dN9srDYQNueylp6P4oWBpXHYCwoYf6v12wvE4CeU0y10rLKUkdLn343g+FV7U9W6fnx4SjM5cDIJmGdNNsy4SLoWF9IeldWObQNaNLAvLra/pwgO4ROHY3ipPIFDGeMO0jpml4z3g9FoI3hATFl6skmTS07oA8yb5gNepfk5J4KxenPBsfvlqzo2TXrKcRgpOpoIelUbN6kbcFSMWbNr9mXa7z4rRcZlJf1g8bYwVNMUe0kA6NzXm6gMH+PA+cqkFumdpebWiSNRIH+xl/vlg6cY72bNnKV4l2adQG0FMG53Tee64xOxTrXnPkeY+zgKTKTvhmZk2/aZs4kc3W1gjYiG4x6w441YtWBkx349VV2t0RSJlm1VARJnJ74mLydinWumbNVuikypymcfNPunXPMdJwV9MfMWoJRubw1i/rR5BRGr/vI/DtPnF2G9tZyawyTUKSvBGSsx4MgVZdl0Mw7WyRZxjMqtUl3XQ00+eqBM4YxuwWEPhUNyhsQjp57zzxZJLOIOxj4jQhbgiAYtvNBJbarlvnWwlMc1r3uEusOi4KHoL5x3usvT5e2LJp8ds2+9Zi9xaxdmBx/eAwyr0H6ZpRMPyIoOcnlhqAUhboNIPHWUCWqfo8ozbxqFmblquzXKF0DZN9g+nKMOkZzt/bRt2KCD9ljbUb6Ywy20+zrfX33BpjAw1vlbxyEIlOVyeoeZlwuPLJPUawqo9RDzBlleeECDLoejpZtcPhk/WWmhNTc4hfLbwfkxdIUnmpKbcHrkUWT9jnaDPCjZSv3ZaMLc7ZTSE5MOJqbZdcAm/0YHMusY7EGaHavC+pwl7pKkpqj8Yai0bKLHshGL2bOidr84yujtdM2vDEoK7PLzH9fA8XqmoQB8mWSFN29jrbiUsNNWzlvo/XC0eovDTC5gKtjSTYLGQ6OYlLAPONa5wCjWp3uQKYfzMPR0jvXLVwDrT64FpPpzXmZeXXuQOtXLnljQEpmlJjje6JgXZOVgOwlRcMb1dHWjEWzeyKfsUxm4Kh83LG5yPYvMwkON20+zXb/RZH5Pafw0hP5JDEhwCKpOelNC16OfKY9wUjVEjJCXvr3RtGuDsgLJCjzczJpi/54IdO4zcviFG6KVyqLrM9godOZFb02m5SD0II1JuWE211ZENSYc6xpfZFbf7h8lJKWrmlRuF8FyLayc3f+8tqyUYsitLXLMQgL5+THF0b2e0eyKGlWOs208XC0pDFMEsvwMgx0yHmhTSlg2r38SOgoywunZTVTGhTvGwF5tcxk2TTJytrKSyC8nRjoEBaBD5LmxaAVz2fxPLMMzGBipOraKCFYjMXCppA4bVovG7GwrITdgwK+ARBa7JCVFJvOcWOYtvYhMQANZWH0zeShyUi0Zu0wBreb1ZZFWGGUktsIAgYnmpLbrEC4jThJUoLdUcQ/BMipMhLemmBl/4C2fLJfQoh3Z9CNgzK3olWnZWBE2KSrNcvdUE7wFAZtTCluVhTayFySMicKmUo9ILQ4JiPYUXNY6yQEeVoGiTnIg5btzKCrSblYLP2w5WUmK3kZ/GVTwszS9W3EnHKyBIqZSjcgVFKk5E08lECYd2WQCrJXMYjwmzMZixIoK7sxuMiU1KbdaiOml5Iz/IKiAgPyBVIyGQcGlSDQczC4E7I6UebpkPNCm7MhgzIx0tKUwctMqWranTbiqTLy39dAQT8dkAml5CLr/VGEOr+YcEoGvUwZEsGAoAylJZZBa1MIvjItqY1ILyGNe6KofxsgB0vJiZYzqARtxiEMipoylWY41C5sbBpBYPS624ed5aN5bxT1PNkA+Y+k5ByL1SqBduN+Bneb0p3BjmgX/nvTdOMY2zCjdHSMO75oKOwWDqBU2qTE38RSBD9tirYjKYOFTTmBQUXbUNE8/VCMXZhJNggarkBx0+3hDIlLFFKCh1jpx+OOLxraj/+ewa2mLM8gsW1ozUBv/Cqb0EwyomZGgX8xJP+3nOS1DkGwXx2EsNDwUZYXrnfl3hmGF5KzPAyuE194/Qy9K/fOMLwQbyE5MSw0QdAscW87MJdkdEaRPwDJW+WkmGW6bocclx2NN5S1bunFC/54n8gI7Tmi48pGhI/JO99FIwtnkKj+5pXyC6rGgO0aEZTlPWbDPpER2nOto/pseIyBpTkaHp65ARePGMeJidaaINj/WANLW+6X4BMkKX193cTVUteQo5nkogcK/ccg+bfk5F6LBCfLgJxmqdZ6hgK1NONkGQ9s3e2pUlTOvJQoniHJG169S5hmXK7xFx3QjaDUYrgSI9YRbb/+/Gp1pOchqbg9XGz7QLKOnIzGG7JGyimQS/+r8hNUhGkAJSJGm/+gaKYqdn89DaBJO3PlNvsxjYzLhZebq2Vi4/oo9gUgoQKKSEmNMAsQ1BwRjTwOLd1HAykRZzN4qlCKHtRfA2nSEfxprSPWbeWXmEkl4riHLzqi4KkUQeL8binBAsy61h2CHBbqXkXDKRGpGRQTR/jMeQgCDaZJtWtBoLVO+Wx56SQPuadC0VOpBuWVcvIQo/4lhyCH4QONVK0hlYg0DEqKIrpNWw2pSfjfA6F10pDroshKJWkIboLCp9IFyjZychALguD0e8ORx2pbaVglYgoGqQRxRUoNq1k5wdAEDSUlpaQ0vAbF/0+D8tvlpI15ZTpNhFzWn4wg0HYlHYPEQhjSI6iFEJ4BDK3zxkjJvbLwoF8C1gJlLzlJY1KpnbPWQD4XHqbBlYjDGIwUQdGJNbhm4Z2A6NN7ysiikmBEOAuKf56NQKFzxspJlqAJkXk/1hN53S63tjH3MOgugGqRWhiFCgCi8wyRkBAWQQ7KdEAJ/JAD6qvlBDMkQHBjgrLPKYT8viJC25lqDHaAr1s9LQ6sRhAAovv65SM6TAqMyEYZfDEstBBISjMvgrvsOrI2cp21lrY1yRncCV61elok+DxIdFP5wP5ScJsUHArLt0uKgRlulp6xUquQ80Ij72lSa3tj9M1kUBe6NQnqtVhiSFRCEnarfDSTgkFSEFrEw/LfSUqbKpNd1KoBQnhHH21zFmYwPXB1TtGCwUH9AdEZo6UjhxSMetpWUjAJLC7JlRRAl9d255cYkFgAXA8tHDynPyA6sXQMloI4rVgpoCKDhcp1m/M5BIHtqc2gL2xpogSElc8EpG20bBSWgspS8HOwUKm3N/5DtO0pRBCY1xm2Y7WIcMgEBAEYehPZGFJLBn5JClzSCAs1cnuTVVvyqK3yrPvg1Vc/eFWzPCnLd42QLUxmHok60N6pLVnulPYzPnj11Q9e1SzPmcO6hkGA2Ko8GP+9bODEMjBUCj4AywfszU7MMl1FUlHyFJiA/lGWF27Nw2rmP4Ogoqo07WieTgHZW5iVmumCahkwAf0p1jys5mvSt8/HF5Y1UHgcEFG9ZeOZMrCYFHwFLKfZmpDrohAEjAYdXgdZ9v7gRWdKUR4GiwHWO4LRIU/siSwX/Zy693OEGGNQ3k5BCHQJ2cglAwZGy8DotxtiI1io0dkag0o005W7Ifv8UpSXwYWAddZMj7sJ2cdyhYhHN3pXJv7WlQ2jXUQZOEIGxno8CA6sW9sagkNM3hVyXmi0CXMwyAvYMUxOXxThQ8TwWy+fY+czl07NUaRfMpDgcwloLQNfBowz5tc/mtqYO6JYvKUQ2oWBDPrDVTY1i4JDUAyew4dnaGBmr9F4Q/fE9m3CSG8oGxUl4KkyQCeroFnNxmyqGbatj7aBdAMY6OvAWkwzXHtRFAzTnk0zsekuG5tIwO0ysAI042xANmYDFpuifWjAojNYJVi8AiUC8RyCY0x2k436xcW3iwx8HJpENmZ5BkaE0UbglAzuB6sHg5Wj5QJrL81icdnAZuLL7ZcAl9yApp2NycOgqa0g2MiAILgOqnUZEJSiZOBJLO6Xjj3EpztIAJUOaFa1MW0ZvMpW7MZAE5RBdSaDe6QDSVQyaCsdi0aI79kS8A9Bs4iN6WgeQZDFVmzKInI4UDsy6CUfFzIoIx04k/iaSsAl0DzOxqQ2LzfaikpRDLRBJUBNySBcPhZmkFo+XiE+I70qvqc40D7LxkSYl89eYGMWuUn/tIdpKfPCUD7KBs2LkI8hkcJrLL7q4Px1GxNmXjmbMT0L/RBMZcwjCKLlAwnOmBeUD9xVeLn9wqOTVeBQqbYxpcyLKmQvrmCiU4F0nHk6g4SQOG1emIRMRBCITu8tvK8Chxq5jSljnr7OXkTvziT7/BC1ZbCehOQ2L7eE4E7CGym8G8ChAtuY8gxmthf4PCZ6qYkAOpNBKvlYVJu/toxsIrw5hPcfgXOljXkTgx42IzMbvdT88LyLwfLykY7BxDISvaPomgmPigqc77cxOzNYOtwad+8iS7gVG509FTj7MYgcYo04reSMHMRpxabqyUleBjPJCA4W3UrC6wcOFTD67YawL3Mw0DmtEN20npamuoy0XtdoFxGYpgz0HlbwN2qiOXjEOE46k5FebRXOwYAwBk+VkrIEXwlOVxbcb/z1bunA28K+kJjAonwMuylSaqayMfwoVrpejhAWgcXeOdOXsVhITgwLgprh7NK010xZaK27TnBPDYvFVNEM/7KUYEB0mwruIwDR7eFsXzZjoZ/D6hwDSwkCLVO4BDOta93eJoMZNYbWTHJIlGaKOZqFXpxVr/RBzZHWOvdVJUfjDVloyIyaJclmyUnZpQX3MsHdBdAX25dCuVno/EzWnDxCs5aO2rnZaa2DE082Z9bCIddF6dW7V4cBhQ/rfkGPdUeEafbm4JQs9Ox+Fr/0nHqaNbv4V9q5JOmbUdYSUxkR1iyLx8gJ7iG4LxLcKgA9YF9wLibawNI4rVizym4ybVCzlw4kKLUEpyZ9gom+vbdZheKOzb2qlmZvjfjDNp6sUasQFsHPwn/F4lGa6U4oqeFbiW1jwVEpAmgLGzMnG52v4XATem43eVVtSfkIOS90V7HUZKOTFdvbhDonTVBGW9I67lNP/FCS1m2qDegdkwAxCz9xsv0165fJCm4qtiZ+sb0XoElszC8F2Gid/aqSm8V4uuNyg/IMzBgUpq0qH7iDWBpEsNG6+LsMFKap46n+VG2WaJ9dW9Vq3tbr2naXlFXaFyTYenqVAvkC2oKBX5IWTCo0fbTYfhAgKik2Bgexij9qyh+v0r7KIQSfN9HWlhD/sUJBgo2s4g923SXj/Tce0j+TtjY/1n8TyutovKEwoX1QaGN+/aNpNoB+0c7sYAVeJQTPySSUTazAqzi6SwzOIbQdhObaposD8NvtzJCuNgq7CyW8uew1LyQzWfqIzKASoVWA6DI7gxfYKdxVJHiE7OVCqd1OZPsJbR+I/m9bE7OynapxjEjCd5G7M/1yg18ksAeF1hii19oaTGenMOS80EaEBYLJgzIXthlK7t4kTovr/UJ7H0Rb2xu8xU7hqKdt9eMCwdll7qUovVnFdbzQ+kHk/G570/MUO4UNzhRIWYJD8tbXLz/YUlgbiuxcB+Sx10GyNxinlUyizk5hz2nFgWevLWtV6qAE199RVD8usr1gus/m4HqRHEWUky6MPiggDBywEkfBZALLeAdK8fwRgtpKZPvC9AK7gwvvzs3EaaaqKl2IJ64kDAy5LkpzboZNMWBKYTXriZL8UkGdKbJ/AaYtbA/2OpOP3A0LIa5XVb6wQd6AKLDBTnxkzx/ytFCIA6YUU2CJcJRl/0xier/IqHTB9E/ZHyxbOsp6weV7YfxpIuUL8XN+HI5aF7HB8OsjrBeY4RyMfzTe0Eoi2n1TlOgM+wvp60X2b8H0X9ogxPkPsVjgLQujR9I3I1LCMNqgvB0hiMhIUHbicGS+2Y0WC/z3r0KPG3YVTq2nVkKpLlxPRPsJ7CkOzE+yRegnOXEkPrRQveUXRm9J34xICUMMzzmIr6VmMqjknp5oTf+9E1soYuc06O2GXa0U3q1lPt6CD62Jsj1YRK8R2HuAoqbBHiFGh+TEvD9ojWGta2MCFk4mY4g4NAdBDR8dC+bonhYt7d902ihr9H/N2ZiAd3e1ECJGJy+9cZCf1EYsuRslvKWAugtsH6C+xC4h4jkbVAmy6t+pMJpYmKBezhCjp1hi4oCVjmqc94BuRyOXZ1/QvharPs8j2Sw/JvhEZSwVf+826YcFOAi2LxGnFYtSHtNYPGkEdjBQe9ooRGwwMknK4mYt/WDJomhy4aMkLX7jcuFzdro/klWtpW/MO8dgY+zgysj33jPPnjG7WYROPdR5QzR5aBmrxb/3iSc0WzpgoaoP3nk2SnuHpURTa4jAZgVqHXsVf6GJcjZN8lD7AsdFFq8VCBbv2DzjW3JceFhtZDn/UfLmtle1gQe1nCll+a5NwoKBsNSZIvOtXSDjMVct36n1QAOjM59TCMEMXzNrwx59249YO7JerUCweMeVM67bo+5JlZHl0HwcuL1jihKz3z6iFKtyJCr3u3MiP0r9PVGC2QXF/QYqRqCc3/jr3VIICaf6KxdON7jY8/Lenmfj/lPmi8yUul7qTB2PK5+y4AxJitX8nKP9aANbC6aiwOgx/Byon5HQlh32PySWxALbHqzPUJhweB2RBBsIjEohWNuqTHh3KYFUQYG/A6wFlCYcLJA5BTbGHeSjwHqj2oTvEkZUL4H9dgfsmxWnozOJYi4U+L5w/UeKExYTxeEio3IdrmtVp5DzQjcRQ74YkVF5DNdbVSe8SgwEZSjwFrFwLag8zSCEqOtERueMdQCP9+aOU52OFcJVKPJnQbaG6rSVEJILzSUKyDZXnZKJ4HgU+af8iPk0kG2vONXXIuwutHFnwh3In6w4TSWCtQsJ7cmg/ZziNFIETVHo3woalXbFKb8AjqoktFzTgPYPKU4PCeCPotAf44D+WMXJSNXw1RsktpfA5jzy9cAoTb01/Puh2F8O3LxK0ybwRYVcF0VsY6+D5AC/rdLUA74ZUOwrQLeK0kRwDLxAGsG9FzqXuagyPXzRMQBeUhT7uRtB91GV6U4NfjXBLeBA/4Mq038PXkYU/DvAy/YGdWmU5YULA28Twbm26eLAv4a6VFJDXyBacPMJILSyQV0iqAAvFYo915ICcJlUZSltALrdywqO1hQ5AqSmQVm6VUP/MhT7GHeQPyiCK1WlsvmgK3eH4H7MEWHsUxSl7hp6I6ah2CvsKQQndIajKA2CLuw2we3riNFVnFSTCmvol0ex/6l+gqDSrCZ9EXhTCc4luY4glxz9dkOoSGeHQbcTiv23byQKZ6iKdJCGPqvYKlBROcJcRkF62PIyWwq6PuFie7IjzmsVpCM09Bug0EMPAqkYBZJtrHfTRj1KCV3x2kJ7CpXXjkj/GeVoMQ39DCjyDh0dobpEoRxNCl4roc3niDV2G8WoTjno+kSLbBJHtI9TjBJr6AlKUeCvziacdVqoReuCd7fAjmzniPcGpahOdugikotr1XaOgLeOt4aqEp2owc++iahoIdjIETKVbr9CVBo+XauRkIr8l46oaeWQQnSjALSeoIZ4frdL7jjC3ih0hqMMRTcRgs74S6J58Xscga/jOhKkCl2nBUnwU8lokfj3XdAR+mM3V4RaiULrlOn8whjr8SA82hH9Rt9eRAmqKQ6tNx48XAjz7LukI4HvDV2/k1WghiLRukmnSvB9RsCRwwVn+ZQfMVd/rheL1m17AffdVMpjHWlcbt8xv/7RVPWZXjS6cQ3IvvvnqBgdqVxrlrepPfmFo8+H67dTKdvIkc7HLvQMleel4il1NkxpQ4v4/8WR02yP3ryIsjNYPHpXiOLtg37Dcx2JPW2ftyk62wmoXmVovttVEc/tyO6jnlRdyTF63QWkCcogmSfRGwOOHH/JV/7G57uJepMlKJTIEcccOIeBwpPAuPnr2v6AI9HLbTGbaoN94AsSfL/LXAfeOufhyeO0kocgnInv27ftco50L/i471Zs1gUq2LHATjv3OCBV3LG5hUNYhBoI7PM/Y/t/4eKtHUnP1vczlJoDAKmVr0D7qyY7qG6bVkave+VwBLjICw/dd6H194x1JJ9K91kKDRrtIuac/ioSH2bngyBoQujUiPYzHpjDoJLObU7MXDSDH2GeZ7V5Q2c4q89yDZWO07Z27OI72qkzbv29rpi50bt7HLhunomNVE1Qe1S9YIIE62WKnLL/iMZ5mn39Gc8snb9hiTZZq72qaINCCHbi1VoXo3PGhla2ruIyqdc8em4q2o0cG/ol7ZSaBC9Uf9TTtmrgfpTlhatfNhrBH+MOssXN9x165IqrUEmZ74eo1Jeb+8olHftLpX/cYwQoPPCPfrshVlvj0LNXcBUnb3DJjfVLzXreJY4dX//FqtnzP/LAvlRkP0SlbdZ+2Rz7v9E1qyldHVpUnHcv12Tl6l/1oj93DZXqqhd/mIq2izPe4pLLjPn1j6bqVJFHvh6YmDWKPbDsClskpVLYlpqWL3n5eZfEOuN1Pr2CquTPNdbjQWidqN2qiyyzAJX8g9cvRc3YlSdnc8Z7jbeGqgqlXW2b+w49csVVXObMDT+0f7m59+xHxeiMB/wERadCi5ur7+WarFz9q170565pXpXKCJUnVLRdnPGi91VjivypmDWKPbDsCrM8i0ph2zJf8vLzLnHGE19ISfHn6vaRzwid4ay6yDILDDp4/VKz7nByNmc8+emUkAot4q2h/vShR664yrTz/dD+5ebesx8VozP+4KxqRq7WZ626yLc/c6EJP7l+qVnPu8QZn3JBv3rxxX/9pbHO+KNbqhbfNqkz/mlG1eLnnPFRV1cs/n9n/NRpFYu246sMUysqXDK+yjvUiqHO+Kr91IpTx19x/qBSMeH4LNWVim8dn+VblIqvGJ9lGZUibex4AtnaTdOly4KXLHnyySc/t5/bte5K8LX69XvuyUtecsmCXbpM0y6buK5RKb7bsYmxC66154uvrbp+80/+EJXCG5417Yu2+PZV9jl13+1DK1tXD63JP/vN29I5Yx/Y/KxDL536MxINrT7vGq3H2YC2qRjzwm5bnttitj/1/Fyf8iPmaRN3KIJcFkmc9k89/5GvB2a2Fudu2e2FFbdpvUb1oZ8x9aVnbV5h21W3eNEip+6zjKs4Oe2zFho04Q+1dZna9au+70vm/vCe5/V7bDsQqHSpFJfKWZe7XhpFjXz/SQctsMwiZz8wdfVttnz+PCjFHXKdGzPOBjRvoksfOHLZ7b/ZVRFPu9DNkzZ/9PuiXn7lWutks84OKsWyUtTlrg9fXLX5NX/uRV+1umuy8tL74q2hthjjDhLtp/9TfsT83IrzTr35m0MrW0/dYoH5nvT2MtfOusPJG5mT7dsUin9QRtr123PuctP90HzTrrLikYfet81qadGm+3NtednQQ7f9sVNn+XPXNK8adVo/KrOO4ziXKRTV/6Muwuuy1mlUVOWmm3TQtKtsv2roDCdR6265/DieZdrVLkv0yNcDo1Ag/u5tB0X9ZXHEXrLcSwPl+v6RxyXdYoXQmvy79qp+87lp0cdl4o+8+Zl/+NrzssESu+Bae856MTXyvm2fNN/HXRXxCqE1+dseOrR1t+fPg746K9CXLB76wIu+/X+bsO2j3zf3W5c7uUsss2xdTl7rvD0/PPe1VddvfvA18yV94zJftf2yRz5waaI1Kp6bqwj6NJ0nV4stX1hxm9ZrzFv9vvvuG5po6H3V513jI63p9nCu+MItz53t+Z/yI+YdcPxNAA==)\n",
        "\n",
        "\n",
        "\n",
        "\n",
        "\n"
      ],
      "metadata": {
        "id": "2uOIhwHrFpMA"
      }
    },
    {
      "cell_type": "markdown",
      "source": [
        "### What is Pandas\n",
        "\n",
        "Pandas is a fast, powerful, flexible and easy to use open source data analysis and manipulation tool,\n",
        "built on top of the Python programming language.\n",
        "\n",
        "https://pandas.pydata.org/about/index.html"
      ],
      "metadata": {
        "id": "Nkgl3LZGP0XZ"
      }
    },
    {
      "cell_type": "markdown",
      "source": [
        "### Pandas Series\n",
        "\n",
        "A Pandas Series is like a column in a table. It is a 1-D array holding data of any type."
      ],
      "metadata": {
        "id": "3QmWVpYGRw59"
      }
    },
    {
      "cell_type": "markdown",
      "source": [
        "### Importing Pandas"
      ],
      "metadata": {
        "id": "3hwTOkrbPMjE"
      }
    },
    {
      "cell_type": "code",
      "source": [
        "import numpy as np\n",
        "import pandas as pd"
      ],
      "metadata": {
        "id": "QWWCrofyPM7J"
      },
      "execution_count": 104,
      "outputs": []
    },
    {
      "cell_type": "markdown",
      "source": [
        "### Series from lists"
      ],
      "metadata": {
        "id": "uU-Ms_To_FG1"
      }
    },
    {
      "cell_type": "code",
      "source": [
        "# string\n",
        "country = ['India','Pakistan','USA','Nepal','Srilanka']\n",
        "\n",
        "pd.Series(country)"
      ],
      "metadata": {
        "colab": {
          "base_uri": "https://localhost:8080/"
        },
        "id": "KYk9Gta7_G38",
        "outputId": "e1e17fc4-8e87-4f90-93af-51a8c6e58625"
      },
      "execution_count": 105,
      "outputs": [
        {
          "output_type": "execute_result",
          "data": {
            "text/plain": [
              "0       India\n",
              "1    Pakistan\n",
              "2         USA\n",
              "3       Nepal\n",
              "4    Srilanka\n",
              "dtype: object"
            ]
          },
          "metadata": {},
          "execution_count": 105
        }
      ]
    },
    {
      "cell_type": "code",
      "source": [
        "# integers\n",
        "runs = [13,24,56,78,100]\n",
        "\n",
        "runs_ser = pd.Series(runs)\n",
        "runs_ser"
      ],
      "metadata": {
        "id": "h_Wgimpg_Idl",
        "colab": {
          "base_uri": "https://localhost:8080/"
        },
        "outputId": "362b7bd9-8c45-41b3-c9dd-9480f7d9f5c4"
      },
      "execution_count": 106,
      "outputs": [
        {
          "output_type": "execute_result",
          "data": {
            "text/plain": [
              "0     13\n",
              "1     24\n",
              "2     56\n",
              "3     78\n",
              "4    100\n",
              "dtype: int64"
            ]
          },
          "metadata": {},
          "execution_count": 106
        }
      ]
    },
    {
      "cell_type": "code",
      "source": [
        "# custom index\n",
        "marks = [67,57,89,100]\n",
        "subjects = ['maths','english','science','hindi']\n",
        "\n",
        "pd.Series(marks,index=subjects)"
      ],
      "metadata": {
        "colab": {
          "base_uri": "https://localhost:8080/"
        },
        "id": "CJgHbnepH_EX",
        "outputId": "bdbe9535-5af2-4b41-f496-35eb4f31c4b4"
      },
      "execution_count": 107,
      "outputs": [
        {
          "output_type": "execute_result",
          "data": {
            "text/plain": [
              "maths       67\n",
              "english     57\n",
              "science     89\n",
              "hindi      100\n",
              "dtype: int64"
            ]
          },
          "metadata": {},
          "execution_count": 107
        }
      ]
    },
    {
      "cell_type": "code",
      "source": [
        "pd.Series(marks,subjects) # by default the second argument is considered to be index."
      ],
      "metadata": {
        "id": "Uquxn7iqMrvv",
        "outputId": "ae2bfa25-6244-4c0e-fb5a-158b7d6738b6",
        "colab": {
          "base_uri": "https://localhost:8080/"
        }
      },
      "execution_count": 108,
      "outputs": [
        {
          "output_type": "execute_result",
          "data": {
            "text/plain": [
              "maths       67\n",
              "english     57\n",
              "science     89\n",
              "hindi      100\n",
              "dtype: int64"
            ]
          },
          "metadata": {},
          "execution_count": 108
        }
      ]
    },
    {
      "cell_type": "code",
      "source": [
        "# setting a name\n",
        "marks = pd.Series(marks,index=subjects,name='Nitish ke marks')\n",
        "marks"
      ],
      "metadata": {
        "colab": {
          "base_uri": "https://localhost:8080/"
        },
        "id": "zcjykyJVKgWs",
        "outputId": "97bc5cc9-4162-498f-ebbf-3efbd0a51168"
      },
      "execution_count": 109,
      "outputs": [
        {
          "output_type": "execute_result",
          "data": {
            "text/plain": [
              "maths       67\n",
              "english     57\n",
              "science     89\n",
              "hindi      100\n",
              "Name: Nitish ke marks, dtype: int64"
            ]
          },
          "metadata": {},
          "execution_count": 109
        }
      ]
    },
    {
      "cell_type": "markdown",
      "source": [
        "### Series from dict"
      ],
      "metadata": {
        "id": "gw4NHrWf_Km3"
      }
    },
    {
      "cell_type": "code",
      "source": [
        "marks = {\n",
        "    'maths':67,\n",
        "    'english':57,\n",
        "    'science':89,\n",
        "    'hindi':100\n",
        "}\n",
        "\n",
        "marks_series = pd.Series(marks,name='nitish ke marks')\n",
        "marks_series"
      ],
      "metadata": {
        "colab": {
          "base_uri": "https://localhost:8080/"
        },
        "id": "Sz9B_oPy_RMX",
        "outputId": "af141c00-da69-4f44-d588-b938bf3f3480"
      },
      "execution_count": 110,
      "outputs": [
        {
          "output_type": "execute_result",
          "data": {
            "text/plain": [
              "maths       67\n",
              "english     57\n",
              "science     89\n",
              "hindi      100\n",
              "Name: nitish ke marks, dtype: int64"
            ]
          },
          "metadata": {},
          "execution_count": 110
        }
      ]
    },
    {
      "cell_type": "markdown",
      "source": [
        "### Series Attributes"
      ],
      "metadata": {
        "id": "MDSIDfei_Szi"
      }
    },
    {
      "cell_type": "code",
      "source": [
        "# size\n",
        "marks_series.size"
      ],
      "metadata": {
        "colab": {
          "base_uri": "https://localhost:8080/"
        },
        "id": "0_eqjw1u_lG_",
        "outputId": "ac4dd5ba-d1a3-4b71-f37d-aedc54a62050"
      },
      "execution_count": 111,
      "outputs": [
        {
          "output_type": "execute_result",
          "data": {
            "text/plain": [
              "4"
            ]
          },
          "metadata": {},
          "execution_count": 111
        }
      ]
    },
    {
      "cell_type": "code",
      "source": [
        "# dtype\n",
        "marks_series.dtype"
      ],
      "metadata": {
        "colab": {
          "base_uri": "https://localhost:8080/"
        },
        "id": "nYpNWJhWGyqa",
        "outputId": "3702d796-6775-4e86-df04-a9f085f6b60c"
      },
      "execution_count": 112,
      "outputs": [
        {
          "output_type": "execute_result",
          "data": {
            "text/plain": [
              "dtype('int64')"
            ]
          },
          "metadata": {},
          "execution_count": 112
        }
      ]
    },
    {
      "cell_type": "code",
      "source": [
        "# name\n",
        "marks_series.name"
      ],
      "metadata": {
        "colab": {
          "base_uri": "https://localhost:8080/",
          "height": 35
        },
        "id": "ImBy24CkKkZP",
        "outputId": "a4ea0d5a-766d-4268-cb54-d82aaac0dbdc"
      },
      "execution_count": 113,
      "outputs": [
        {
          "output_type": "execute_result",
          "data": {
            "text/plain": [
              "'nitish ke marks'"
            ],
            "application/vnd.google.colaboratory.intrinsic+json": {
              "type": "string"
            }
          },
          "metadata": {},
          "execution_count": 113
        }
      ]
    },
    {
      "cell_type": "code",
      "source": [
        "# is_unique\n",
        "marks_series.is_unique\n",
        "\n",
        "pd.Series([1,1,2,3,4,5]).is_unique"
      ],
      "metadata": {
        "colab": {
          "base_uri": "https://localhost:8080/"
        },
        "id": "UsNGB2rCF9V-",
        "outputId": "060be308-9843-49c8-b351-1bbef97faf11"
      },
      "execution_count": 114,
      "outputs": [
        {
          "output_type": "execute_result",
          "data": {
            "text/plain": [
              "False"
            ]
          },
          "metadata": {},
          "execution_count": 114
        }
      ]
    },
    {
      "cell_type": "code",
      "source": [
        "# index\n",
        "marks_series.index"
      ],
      "metadata": {
        "colab": {
          "base_uri": "https://localhost:8080/"
        },
        "id": "VLB00Z-vGBHL",
        "outputId": "2c695941-51b7-42ea-c725-70892da85ddf"
      },
      "execution_count": 115,
      "outputs": [
        {
          "output_type": "execute_result",
          "data": {
            "text/plain": [
              "Index(['maths', 'english', 'science', 'hindi'], dtype='object')"
            ]
          },
          "metadata": {},
          "execution_count": 115
        }
      ]
    },
    {
      "cell_type": "code",
      "source": [
        "runs_ser.index"
      ],
      "metadata": {
        "colab": {
          "base_uri": "https://localhost:8080/"
        },
        "id": "MJ1HXX2H_Mhu",
        "outputId": "f6eec270-77ed-4bc8-d302-bf54e8b2a62a"
      },
      "execution_count": 116,
      "outputs": [
        {
          "output_type": "execute_result",
          "data": {
            "text/plain": [
              "RangeIndex(start=0, stop=5, step=1)"
            ]
          },
          "metadata": {},
          "execution_count": 116
        }
      ]
    },
    {
      "cell_type": "code",
      "source": [
        "# values\n",
        "marks_series.values"
      ],
      "metadata": {
        "colab": {
          "base_uri": "https://localhost:8080/"
        },
        "id": "PmE8l3SKGDbl",
        "outputId": "199f8e6e-70d1-4647-d3fb-c7d7d0c16acf"
      },
      "execution_count": 117,
      "outputs": [
        {
          "output_type": "execute_result",
          "data": {
            "text/plain": [
              "array([ 67,  57,  89, 100])"
            ]
          },
          "metadata": {},
          "execution_count": 117
        }
      ]
    },
    {
      "cell_type": "code",
      "source": [
        "marks_series.values[0]"
      ],
      "metadata": {
        "id": "kKU82Confb6N",
        "outputId": "6ec9adfb-788a-4c94-b0da-501c3d276931",
        "colab": {
          "base_uri": "https://localhost:8080/"
        }
      },
      "execution_count": 118,
      "outputs": [
        {
          "output_type": "execute_result",
          "data": {
            "text/plain": [
              "67"
            ]
          },
          "metadata": {},
          "execution_count": 118
        }
      ]
    }
  ]
}